{
  "nbformat": 4,
  "nbformat_minor": 0,
  "metadata": {
    "colab": {
      "provenance": [],
      "gpuType": "T4",
      "include_colab_link": true
    },
    "kernelspec": {
      "name": "python3",
      "display_name": "Python 3"
    },
    "language_info": {
      "name": "python"
    },
    "accelerator": "GPU"
  },
  "cells": [
    {
      "cell_type": "markdown",
      "metadata": {
        "id": "view-in-github",
        "colab_type": "text"
      },
      "source": [
        "<a href=\"https://colab.research.google.com/github/GeorgeM2000/DMTE/blob/master/code/DMTE.ipynb\" target=\"_parent\"><img src=\"https://colab.research.google.com/assets/colab-badge.svg\" alt=\"Open In Colab\"/></a>"
      ]
    },
    {
      "cell_type": "markdown",
      "source": [
        "# ***Libraries & Tools***"
      ],
      "metadata": {
        "id": "Lm_6DHW8WU30"
      }
    },
    {
      "cell_type": "code",
      "execution_count": null,
      "metadata": {
        "id": "wDqukMh63rB7"
      },
      "outputs": [],
      "source": [
        "import argparse\n",
        "import os\n",
        "import random\n",
        "import numpy as np\n",
        "import tensorflow as tf\n",
        "from math import pow\n",
        "from datetime import datetime\n",
        "from pathlib import Path\n",
        "import shutil\n",
        "from tqdm import tqdm\n",
        "import zipfile\n",
        "from sklearn.preprocessing import normalize"
      ]
    },
    {
      "cell_type": "code",
      "source": [
        "!pwd"
      ],
      "metadata": {
        "id": "Cs_tnKOwef_Q"
      },
      "execution_count": null,
      "outputs": []
    },
    {
      "cell_type": "markdown",
      "source": [
        "# ***Global Variables***"
      ],
      "metadata": {
        "id": "Rt0e5GPf8RBx"
      }
    },
    {
      "cell_type": "code",
      "source": [
        "MAX_LEN=300\n",
        "neg_table_size=1000000\n",
        "NEG_SAMPLE_POWER=0.75\n",
        "batch_size=256\n",
        "num_epoch=200 # Default: 200\n",
        "embed_size=200\n",
        "word_embed_size=200\n",
        "lr=1e-3"
      ],
      "metadata": {
        "id": "0iTSFdmS8THg"
      },
      "execution_count": null,
      "outputs": []
    },
    {
      "cell_type": "code",
      "source": [
        "datasetName = \"cora\"\n",
        "dataTextFile = \"data.txt\"\n",
        "ratio = 0.15\n",
        "alpha = 0.3\n",
        "beta = 0.1"
      ],
      "metadata": {
        "id": "4Y-INwI4KbIs"
      },
      "execution_count": null,
      "outputs": []
    },
    {
      "cell_type": "code",
      "source": [
        "max_word_count = 0\n",
        "min_word_count = float('inf')\n",
        "\n",
        "with open(f'/content/datasets/{datasetName}/{dataTextFile}', 'r') as file:\n",
        "    for line in file:\n",
        "        word_count = len(line.split())\n",
        "\n",
        "        if word_count > max_word_count:\n",
        "            max_word_count = word_count\n",
        "\n",
        "        if word_count < min_word_count:\n",
        "            min_word_count = word_count\n",
        "\n",
        "print(\"Max word count:\", max_word_count)\n",
        "print(\"Min word count:\", min_word_count)\n",
        "\n",
        "\n",
        "MAX_LEN = max_word_count + 1"
      ],
      "metadata": {
        "colab": {
          "base_uri": "https://localhost:8080/"
        },
        "id": "0xEhbCPl7UQY",
        "outputId": "cb348bd4-2dac-4669-932a-39558ba0ca57"
      },
      "execution_count": null,
      "outputs": [
        {
          "output_type": "stream",
          "name": "stdout",
          "text": [
            "Max word count: 473\n",
            "Min word count: 10\n"
          ]
        }
      ]
    },
    {
      "cell_type": "code",
      "source": [
        "zip_file_path = '/content/data.zip'\n",
        "extract_to = f'/content/datasets/{datasetName}'\n",
        "\n",
        "# Open and extract the zip file\n",
        "with zipfile.ZipFile(zip_file_path, 'r') as zip_ref:\n",
        "    zip_ref.extractall(extract_to)\n",
        "\n",
        "print(\"Extraction complete!\")"
      ],
      "metadata": {
        "id": "sdXCdfP_-hHD",
        "outputId": "8362d0d7-ea0c-4ce5-fde7-d5c44a838a94",
        "colab": {
          "base_uri": "https://localhost:8080/"
        }
      },
      "execution_count": null,
      "outputs": [
        {
          "output_type": "stream",
          "name": "stdout",
          "text": [
            "Extraction complete!\n"
          ]
        }
      ]
    },
    {
      "cell_type": "code",
      "source": [
        "def sub_Mat(P, node):\n",
        "\n",
        "    sub_P = np.zeros((len(node),len(node)))\n",
        "    for i in range(len(node)):\n",
        "        for j in range(len(node)):\n",
        "            sub_P[i,j] = P[node[i],node[j]]\n",
        "\n",
        "    return sub_P"
      ],
      "metadata": {
        "id": "vcWCLJQxVIlg"
      },
      "execution_count": null,
      "outputs": []
    },
    {
      "cell_type": "markdown",
      "source": [
        "# ***DataSet***"
      ],
      "metadata": {
        "id": "UwNH2N0iVJ1Y"
      }
    },
    {
      "cell_type": "code",
      "source": [
        "class dataSet:\n",
        "    def __init__(self, text_path, graph_path):\n",
        "\n",
        "        text_file, graph_file = self.load(text_path, graph_path)\n",
        "\n",
        "        self.edges = self.load_edges(graph_file)\n",
        "\n",
        "        self.text, self.num_vocab, self.num_nodes = self.load_text(text_file)\n",
        "\n",
        "        self.nodes = range(0, self.num_nodes)\n",
        "\n",
        "        self.negative_table = InitNegTable(self.edges)\n",
        "\n",
        "        self.P = self.P_matrix(self.edges, self.num_nodes)\n",
        "\n",
        "    def load(self, text_path, graph_path):\n",
        "        text_file = open(text_path, 'rb').readlines()\n",
        "        graph_file = open(graph_path, 'rb').readlines()\n",
        "\n",
        "        return text_file, graph_file\n",
        "\n",
        "    def load_edges(self, graph_file):\n",
        "        edges = []\n",
        "        for i in graph_file:\n",
        "            if np.random.uniform(0.0, 1.0) <= ratio:\n",
        "                edges.append(map(int, i.strip().split('\\t')))\n",
        "\n",
        "        return edges\n",
        "\n",
        "    def load_text(self, text_file):\n",
        "        \"\"\"\n",
        "        Adapting with adapt(text_data):\n",
        "\n",
        "        vectorize_layer.adapt(text_data) analyzes text_data, builds a vocabulary, and assigns a unique integer ID to each word based on its frequency (most frequent words get lower IDs).\n",
        "        Transforming with vectorize_layer(text_data):\n",
        "\n",
        "        This maps each word in text_data to its corresponding integer token ID, producing a 2D array where each row represents a sequence of token IDs for a given input line, padded or truncated to max_len.\n",
        "        \"\"\"\n",
        "        vectorize_layer = tf.keras.layers.TextVectorization(\n",
        "            max_tokens=None,  # Set a limit if needed\n",
        "            output_mode='int',\n",
        "            output_sequence_length=MAX_LEN\n",
        "        )\n",
        "\n",
        "        text_data = [line.strip() for line in text_file]\n",
        "\n",
        "        vectorize_layer.adapt(text_data)\n",
        "\n",
        "        text = vectorize_layer(text_data).numpy()\n",
        "\n",
        "        num_vocab = len(vectorize_layer.get_vocabulary())\n",
        "        print(f'Vocabulary: {num_vocab}')\n",
        "        num_nodes = len(text)\n",
        "\n",
        "        return text, num_vocab, num_nodes\n",
        "\n",
        "    def negative_sample(self, edges):\n",
        "        node1, node2 = zip(*edges)\n",
        "        sample_edges = []\n",
        "        func = lambda: self.negative_table[random.randint(0, neg_table_size - 1)]\n",
        "        for i in range(len(edges)):\n",
        "            neg_node = func()\n",
        "            while node1[i] == neg_node or node2[i] == neg_node:\n",
        "                neg_node = func()\n",
        "            sample_edges.append([node1[i], node2[i], neg_node])\n",
        "\n",
        "        return sample_edges\n",
        "\n",
        "    def generate_batches(self, mode=None):\n",
        "\n",
        "        num_batch = len(self.edges) / batch_size\n",
        "        edges = self.edges\n",
        "        if mode == 'add':\n",
        "            num_batch += 1\n",
        "            edges.extend(edges[:(batch_size - len(self.edges) % batch_size)])\n",
        "        if mode != 'add':\n",
        "            random.shuffle(edges)\n",
        "        sample_edges = edges[:num_batch * batch_size]\n",
        "        sample_edges = self.negative_sample(sample_edges)\n",
        "\n",
        "        batches = []\n",
        "        for i in range(num_batch):\n",
        "            batches.append(sample_edges[i * batch_size:(i + 1) * batch_size])\n",
        "        return batches\n",
        "\n",
        "    def nodes_batches(self, mode=None):\n",
        "\n",
        "        num_batch = len(self.nodes) / batch_size\n",
        "        nodes = self.nodes\n",
        "        if mode == 'add':\n",
        "            num_batch += 1\n",
        "            nodes.extend(nodes[:(batch_size - len(self.nodes) % batch_size)])\n",
        "            random.shuffle(nodes)\n",
        "        if mode != 'add':\n",
        "            random.shuffle(nodes)\n",
        "        sample_nodes = nodes[:num_batch * batch_size]\n",
        "\n",
        "        batches = []\n",
        "        for i in range(num_batch):\n",
        "            batches.append(sample_nodes[i * batch_size:(i + 1) * batch_size])\n",
        "        return batches\n",
        "\n",
        "    def P_matrix(self, edges, num_nodes):\n",
        "        a_list,b_list=zip(*edges)\n",
        "        a_list=list(a_list)\n",
        "        b_list=list(b_list)\n",
        "\n",
        "        P = np.zeros((num_nodes,num_nodes))\n",
        "        for i in range(len(a_list)):\n",
        "            P[a_list[i],b_list[i]]=1\n",
        "            P[b_list[i],a_list[i]]=1\n",
        "\n",
        "        P = normalize(P, axis=1, norm='l1')\n",
        "\n",
        "        return P"
      ],
      "metadata": {
        "id": "-KcJkcNBs_G3"
      },
      "execution_count": null,
      "outputs": []
    },
    {
      "cell_type": "markdown",
      "source": [
        "# ***DMTE***"
      ],
      "metadata": {
        "id": "-AV9wwI_7NSC"
      }
    },
    {
      "cell_type": "code",
      "source": [
        "class Model:\n",
        "    def __init__(self, vocab_size, num_nodes):\n",
        "        # '''hyperparameter'''\n",
        "        with tf.name_scope('read_inputs') as scope:\n",
        "            self.Text_a = tf.compat.v1.placeholder(tf.int32, [batch_size, MAX_LEN], name='Ta')\n",
        "            self.Text_b = tf.compat.v1.placeholder(tf.int32, [batch_size, MAX_LEN], name='Tb')\n",
        "            self.Text_neg = tf.compat.v1.placeholder(tf.int32, [batch_size, .MAX_LEN], name='Tneg')\n",
        "            self.Node_a = tf.compat.v1.placeholder(tf.int32, [batch_size], name='n1')\n",
        "            self.Node_b = tf.compat.v1.placeholder(tf.int32, [batch_size], name='n2')\n",
        "            self.Node_neg = tf.compat.v1.placeholder(tf.int32, [batch_size], name='n3')\n",
        "            self.P_a = tf.compat.v1.placeholder(tf.float32, [batch_size, batch_size], name='Pa')\n",
        "            self.P_b = tf.compat.v1.placeholder(tf.float32, [batch_size, batch_size], name='Pb')\n",
        "            self.P_neg = tf.compat.v1.placeholder(tf.float32, [batch_size, batch_size], name='Pneg')\n",
        "\n",
        "        with tf.name_scope('initialize_embedding') as scope:\n",
        "            self.text_embed = tf.Variable(tf.random.truncated_normal([vocab_size, word_embed_size], stddev=0.3))\n",
        "            self.node_embed = tf.Variable(tf.random.truncated_normal([num_nodes, embed_size / 2], stddev=0.3))\n",
        "            self.node_embed = tf.clip_by_norm(self.node_embed, clip_norm=1, axes=1)\n",
        "\n",
        "        with tf.name_scope('lookup_embeddings') as scope:\n",
        "            self.TA = tf.nn.embedding_lookup(self.text_embed, self.Text_a)\n",
        "            self.T_A = tf.expand_dims(self.TA, -1)\n",
        "\n",
        "            self.TB = tf.nn.embedding_lookup(self.text_embed, self.Text_b)\n",
        "            self.T_B = tf.expand_dims(self.TB, -1)\n",
        "\n",
        "            self.TNEG = tf.nn.embedding_lookup(self.text_embed, self.Text_neg)\n",
        "            self.T_NEG = tf.expand_dims(self.TNEG, -1)\n",
        "\n",
        "            self.N_A = tf.nn.embedding_lookup(self.node_embed, self.Node_a)\n",
        "            self.N_B = tf.nn.embedding_lookup(self.node_embed, self.Node_b)\n",
        "            self.N_NEG = tf.nn.embedding_lookup(self.node_embed, self.Node_neg)\n",
        "\n",
        "        self.convA, self.convB, self.convNeg = self.conv()\n",
        "        self.loss = self.compute_loss()\n",
        "\n",
        "    def conv(self):\n",
        "\n",
        "        W0 = tf.Variable(tf.random.truncated_normal([word_embed_size, embed_size / 2], stddev=0.3))\n",
        "        W1 = tf.Variable(tf.random.truncated_normal([word_embed_size, embed_size / 2], stddev=0.3))\n",
        "        W2 = tf.Variable(tf.random.truncated_normal([word_embed_size, embed_size / 2], stddev=0.3))\n",
        "\n",
        "        mA = tf.reduce_mean(self.T_A, axis=1, keepdims=True)\n",
        "        mB = tf.reduce_mean(self.T_B, axis=1, keepdims=True)\n",
        "        mNEG = tf.reduce_mean(self.T_NEG, axis=1, keepdims=True)\n",
        "\n",
        "        convA = tf.tanh(tf.squeeze(mA))\n",
        "        convB = tf.tanh(tf.squeeze(mB))\n",
        "        convNEG = tf.tanh(tf.squeeze(mNEG))\n",
        "\n",
        "        attA = tf.matmul(convA, W0) + alpha * tf.matmul(tf.matmul(self.P_a, convA), W1) + beta * tf.matmul(tf.matmul(tf.math.square(self.P_a), convA), W2)\n",
        "        attB = tf.matmul(convB, W0) + alpha * tf.matmul(tf.matmul(self.P_b, convB), W1) + beta * tf.matmul(tf.matmul(tf.math.square(self.P_b), convB), W2)\n",
        "        attNEG = tf.matmul(convNEG, W0) + alpha * tf.matmul(tf.matmul(self.P_a, convNEG), W1) + beta * tf.matmul(tf.matmul(tf.math.square(self.P_a), convNEG), W2)\n",
        "\n",
        "        return attA, attB, attNEG\n",
        "\n",
        "    def compute_loss(self):\n",
        "\n",
        "        p1 = tf.math.log(tf.nn.sigmoid(tf.reduce_sum(tf.multiply(self.convA, self.convB), 1)) + 0.001)\n",
        "\n",
        "        p2 = tf.math.log(tf.nn.sigmoid(-tf.reduce_sum(tf.multiply(self.convA, self.convNeg), 1)) + 0.001)\n",
        "\n",
        "        p3 = tf.math.log(tf.nn.sigmoid(tf.reduce_sum(tf.multiply(self.N_A + alpha * tf.matmul(self.P_a, self.N_A) + beta * tf.matmul(tf.math.square(self.P_a), self.N_A), self.N_B), 1)) + 0.001)\n",
        "\n",
        "        p4 = tf.math.log(tf.nn.sigmoid(-tf.reduce_sum(tf.multiply(self.N_A + alpha * tf.matmul(self.P_a, self.N_A) + beta * tf.matmul(tf.math.square(self.P_a), self.N_A), self.N_NEG), 1)) + 0.001)\n",
        "\n",
        "        p5 = tf.math.log(tf.nn.sigmoid(tf.reduce_sum(tf.multiply(self.N_A + alpha * tf.matmul(self.P_a, self.N_A) + beta * tf.matmul(tf.math.square(self.P_a), self.N_A), self.convB), 1)) + 0.001)\n",
        "\n",
        "        p6 = tf.math.log(tf.nn.sigmoid(-tf.reduce_sum(tf.multiply(self.N_A + alpha * tf.matmul(self.P_a, self.N_A) + beta * tf.matmul(tf.math.square(self.P_a), self.N_A), self.convNeg), 1)) + 0.001)\n",
        "\n",
        "        p7 = tf.math.log(tf.nn.sigmoid(tf.reduce_sum(tf.multiply(self.convA, self.N_B), 1)) + 0.001)\n",
        "\n",
        "        p8 = tf.math.log(tf.nn.sigmoid(-tf.reduce_sum(tf.multiply(self.convA, self.N_NEG), 1)) + 0.001)\n",
        "\n",
        "        p11 = tf.math.log(tf.nn.sigmoid(tf.reduce_sum(tf.multiply(self.convB, self.convA), 1)) + 0.001)\n",
        "\n",
        "        p12 = tf.math.log(tf.nn.sigmoid(-tf.reduce_sum(tf.multiply(self.convB, self.convNeg), 1)) + 0.001)\n",
        "\n",
        "        p13 = tf.math.log(tf.nn.sigmoid(tf.reduce_sum(tf.multiply(self.N_B + alpha * tf.matmul(self.P_b, self.N_B) + beta * tf.matmul(tf.math.square(self.P_b), self.N_B), self.N_A), 1)) + 0.001)\n",
        "\n",
        "        p14 = tf.math.log(tf.nn.sigmoid(-tf.reduce_sum(tf.multiply(self.N_B + alpha * tf.matmul(self.P_b, self.N_B) + beta * tf.matmul(tf.math.square(self.P_b), self.N_B), self.N_NEG), 1)) + 0.001)\n",
        "\n",
        "        p15 = tf.math.log(tf.nn.sigmoid(tf.reduce_sum(tf.multiply(self.N_B + alpha * tf.matmul(self.P_b, self.N_B) + beta * tf.matmul(tf.math.square(self.P_b), self.N_B), self.convA), 1)) + 0.001)\n",
        "\n",
        "        p16 = tf.math.log(tf.nn.sigmoid(-tf.reduce_sum(tf.multiply(self.N_B + alpha * tf.matmul(self.P_b, self.N_B) + beta * tf.matmul(tf.math.square(self.P_b), self.N_B), self.convNeg), 1)) + 0.001)\n",
        "\n",
        "        p17 = tf.math.log(tf.nn.sigmoid(tf.reduce_sum(tf.multiply(self.convB, self.N_A), 1)) + 0.001)\n",
        "\n",
        "        p18 = tf.math.log(tf.nn.sigmoid(-tf.reduce_sum(tf.multiply(self.convB, self.N_NEG), 1)) + 0.001)\n",
        "\n",
        "        rho1 = 0.7\n",
        "        rho2 = 1.0\n",
        "        rho3 = 0.1\n",
        "        temp_loss = rho1 * (p1 + p2 + p11 + p12) + rho2 * (p3 + p4 + p13 + p14) + rho3 * (p5 + p6 + p15 + p16) + rho3 * (p7 + p8 + p17 + p18)\n",
        "        loss = -tf.reduce_sum(temp_loss)\n",
        "        return loss"
      ],
      "metadata": {
        "id": "S23Tcvj9tQnb"
      },
      "execution_count": null,
      "outputs": []
    },
    {
      "cell_type": "markdown",
      "source": [
        "# ***Negative Sample***"
      ],
      "metadata": {
        "id": "2Vt_wvryq0oh"
      }
    },
    {
      "cell_type": "code",
      "source": [
        "def InitNegTable(edges):\n",
        "    a_list, b_list = zip(*edges)\n",
        "    a_list = list(a_list)\n",
        "    b_list = list(b_list)\n",
        "    node = a_list\n",
        "    node.extend(b_list)\n",
        "\n",
        "    node_degree = {}\n",
        "    for i in node:\n",
        "        if i in node_degree:\n",
        "            node_degree[i] += 1\n",
        "        else:\n",
        "            node_degree[i] = 1\n",
        "    sum_degree = 0\n",
        "    for i in node_degree.values():\n",
        "        sum_degree += pow(i, 0.75)\n",
        "\n",
        "    por = 0\n",
        "    cur_sum = 0\n",
        "    vid = -1\n",
        "    neg_table = []\n",
        "    degree_list = list(node_degree.values())\n",
        "    node_id = list(node_degree.keys())\n",
        "    for i in range(neg_table_size):\n",
        "        if ((i + 1) / float(neg_table_size)) > por:\n",
        "            cur_sum += pow(degree_list[vid + 1], NEG_SAMPLE_POWER)\n",
        "            por = cur_sum / sum_degree\n",
        "            vid += 1\n",
        "        neg_table.append(node_id[vid])\n",
        "    print(len(neg_table))\n",
        "    return neg_table\n"
      ],
      "metadata": {
        "id": "UdwgdktTq504"
      },
      "execution_count": null,
      "outputs": []
    },
    {
      "cell_type": "markdown",
      "source": [
        "# ***Run***"
      ],
      "metadata": {
        "id": "rLaqva64WoA0"
      }
    },
    {
      "cell_type": "code",
      "source": [
        "def prepareData(datasetName, ratio):\n",
        "  f = open('/content/datasets/%s/graph.txt' % datasetName, 'rb')\n",
        "  edges = [i for i in f]\n",
        "  selected = int(len(edges) * float(ratio))\n",
        "  selected = selected - selected % batch_size\n",
        "  selected = random.sample(edges, selected)\n",
        "  remain = [i for i in edges if i not in selected]\n",
        "  try:\n",
        "    temp_dir = Path('temp')\n",
        "\n",
        "    # Check if the directory exists, if so, delete it\n",
        "    if temp_dir.exists() and temp_dir.is_dir():\n",
        "        shutil.rmtree(temp_dir)\n",
        "        print(\"Existing directory deleted.\")\n",
        "\n",
        "    # Create the directory\n",
        "    temp_dir.mkdir(parents=True, exist_ok=True)\n",
        "    print(\"Directory created successfully.\")\n",
        "\n",
        "  except Exception as e:\n",
        "      print(f\"An error occurred: {e}\")\n",
        "\n",
        "  fw1 = open('temp/graph.txt', 'wb')\n",
        "  fw2 = open('temp/test_graph.txt', 'wb')\n",
        "\n",
        "  for i in selected:\n",
        "      fw1.write(i)\n",
        "  for i in remain:\n",
        "      fw2.write(i)"
      ],
      "metadata": {
        "id": "dgbe18H4WsgX"
      },
      "execution_count": null,
      "outputs": []
    },
    {
      "cell_type": "code",
      "source": [
        "prepareData(datasetName, ratio)"
      ],
      "metadata": {
        "id": "yK_Z-E1HXRVm",
        "colab": {
          "base_uri": "https://localhost:8080/"
        },
        "outputId": "90a2f8a1-61e9-4596-c969-e4e2628ddbcb"
      },
      "execution_count": null,
      "outputs": [
        {
          "output_type": "stream",
          "name": "stdout",
          "text": [
            "Directory created successfully.\n"
          ]
        }
      ]
    },
    {
      "cell_type": "code",
      "source": [
        "# load data\n",
        "dataset_name = datasetName\n",
        "graph_path = os.path.join('/content/temp/graph.txt')\n",
        "text_path = os.path.join(\"/content\", \"datasets\", dataset_name, dataTextFile)\n",
        "\n",
        "data = dataSet(text_path, graph_path)"
      ],
      "metadata": {
        "colab": {
          "base_uri": "https://localhost:8080/"
        },
        "id": "-wFgChvWggiu",
        "outputId": "3a718990-081f-4d8d-9c22-e606f05e43c7"
      },
      "execution_count": null,
      "outputs": [
        {
          "output_type": "stream",
          "name": "stdout",
          "text": [
            "Total load 70656 edges.\n",
            "Vocabulary: 204952\n",
            "1000000\n"
          ]
        }
      ]
    },
    {
      "cell_type": "code",
      "source": [
        "with tf.Graph().as_default():\n",
        "    sess = tf.compat.v1.Session()\n",
        "    with sess.as_default():\n",
        "        model = Model(data.num_vocab, data.num_nodes)\n",
        "        opt = tf.compat.v1.train.AdamOptimizer(lr)#tf.keras.optimizers.Adam(learning_rate=lr)\n",
        "        train_op = opt.minimize(model.loss)#opt.minimize(model.loss, var_list=model.trainable_variables)\n",
        "        sess.run(tf.compat.v1.global_variables_initializer())\n",
        "        time = 0\n",
        "\n",
        "        # training\n",
        "        print('start training.......')\n",
        "\n",
        "\n",
        "        for epoch in tqdm(range(num_epoch), desc=\"Epochs\"):\n",
        "            start = datetime.now()\n",
        "            loss_epoch = 0\n",
        "            batches = data.generate_batches()\n",
        "            h1 = 0\n",
        "            num_batch = len(batches)\n",
        "            for i in range(num_batch):\n",
        "                batch = batches[i]\n",
        "\n",
        "                node1, node2, node3 = zip(*batch)\n",
        "                node1, node2, node3 = np.array(node1), np.array(node2), np.array(node3)\n",
        "                text1, text2, text3 = data.text[node1], data.text[node2], data.text[node3]\n",
        "                P1, P2, P3 = sub_Mat(data.P, node1), sub_Mat(data.P, node2), sub_Mat(data.P, node3)\n",
        "\n",
        "                feed_dict = {\n",
        "                    model.Text_a: text1,\n",
        "                    model.Text_b: text2,\n",
        "                    model.Text_neg: text3,\n",
        "                    model.Node_a: node1,\n",
        "                    model.Node_b: node2,\n",
        "                    model.Node_neg: node3,\n",
        "                    model.P_a: P1,\n",
        "                    model.P_b: P2,\n",
        "                    model.P_neg: P3\n",
        "                }\n",
        "\n",
        "                # run the graph\n",
        "                _, loss_batch = sess.run([train_op, model.loss], feed_dict=feed_dict)\n",
        "\n",
        "                loss_epoch += loss_batch\n",
        "\n",
        "            end = datetime.now()\n",
        "            time += (end - start).total_seconds()\n",
        "            print('epoch: ', epoch + 1, ' loss: ', loss_epoch)\n",
        "\n",
        "        print(f'Time: {time}')\n",
        "        # Saving embeddings\n",
        "        with open('temp/embed.txt', 'wb') as file:\n",
        "            batches = data.generate_batches(mode='add')\n",
        "            num_batch = len(batches)\n",
        "            embed = [[] for _ in range(data.num_nodes)]\n",
        "\n",
        "            for i in range(num_batch):\n",
        "                batch = batches[i]\n",
        "                node1, node2, node3 = zip(*batch)\n",
        "                node1, node2, node3 = np.array(node1), np.array(node2), np.array(node3)\n",
        "                text1, text2, text3 = data.text[node1], data.text[node2], data.text[node3]\n",
        "                P1, P2, P3 = sub_Mat(data.P, node1), sub_Mat(data.P, node2), sub_Mat(data.P, node3)\n",
        "\n",
        "                feed_dict = {\n",
        "                    model.Text_a: text1,\n",
        "                    model.Text_b: text2,\n",
        "                    model.Text_neg: text3,\n",
        "                    model.Node_a: node1,\n",
        "                    model.Node_b: node2,\n",
        "                    model.Node_neg: node3,\n",
        "                    model.P_a: P1,\n",
        "                    model.P_b: P2,\n",
        "                    model.P_neg: P3\n",
        "                }\n",
        "\n",
        "                # Fetch embeddings\n",
        "                #convA, convB, TA, TB = sess.run([model.convA, model.convB, model.N_A, model.N_B])\n",
        "                convA, convB, TA, TB = sess.run([model.convA, model.convB, model.N_A, model.N_B], feed_dict=feed_dict)\n",
        "\n",
        "                for j in range(batch_size):\n",
        "                    em = list(convA[j]) + list(TA[j])\n",
        "                    embed[node1[j]].append(em)\n",
        "                    em = list(convB[j]) + list(TB[j])\n",
        "                    embed[node2[j]].append(em)\n",
        "\n",
        "\n",
        "            for i in range(data.num_nodes):\n",
        "                if embed[i]:\n",
        "                    tmp = np.mean(embed[i], axis=0) / len(embed[i])\n",
        "                    file.write((' '.join(map(str, tmp)) + '\\n').encode())\n",
        "                else:\n",
        "                    file.write('\\n'.encode())"
      ],
      "metadata": {
        "id": "1QsRmNqLXrGb"
      },
      "execution_count": null,
      "outputs": []
    },
    {
      "cell_type": "code",
      "source": [
        "node2vec = {}\n",
        "f = open('temp/embed.txt', 'rb')\n",
        "for i, j in enumerate(f):\n",
        "    if j.decode() != '\\n':\n",
        "        node2vec[i] = list(map(float, j.strip().decode().split(' ')))\n",
        "f1 = open(os.path.join('temp/test_graph.txt'), 'rb')\n",
        "edges = [list(map(int, i.strip().decode().split('\\t'))) for i in f1]\n",
        "nodes = list(set([i for j in edges for i in j]))\n",
        "a = 0\n",
        "b = 0\n",
        "result = []\n",
        "for i, j in edges:\n",
        "    if i in node2vec.keys() and j in node2vec.keys():\n",
        "        dot1 = np.dot(node2vec[i], node2vec[j])\n",
        "        random_node = random.sample(nodes, 1)[0]\n",
        "        while random_node == j or random_node not in node2vec.keys():\n",
        "            random_node = random.sample(nodes, 1)[0]\n",
        "        dot2 = np.dot(node2vec[i], node2vec[random_node])\n",
        "        result.append(np.asarray([dot1,dot2]))\n",
        "        if dot1 > dot2:\n",
        "            a += 1\n",
        "        elif dot1 == dot2:\n",
        "            a += 0.5\n",
        "        b += 1\n",
        "\n",
        "print(\"Auc value:\", float(a) / b)"
      ],
      "metadata": {
        "id": "NZsQv5KyY83v",
        "colab": {
          "base_uri": "https://localhost:8080/"
        },
        "outputId": "e9e1cd5c-8024-4421-ebb6-f5a8a77fc944"
      },
      "execution_count": null,
      "outputs": [
        {
          "output_type": "stream",
          "name": "stdout",
          "text": [
            "Auc value: 0.9343059849054501\n"
          ]
        }
      ]
    }
  ]
}