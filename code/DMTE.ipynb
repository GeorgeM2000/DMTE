{
  "nbformat": 4,
  "nbformat_minor": 0,
  "metadata": {
    "colab": {
      "provenance": [],
      "gpuType": "T4",
      "include_colab_link": true
    },
    "kernelspec": {
      "name": "python3",
      "display_name": "Python 3"
    },
    "language_info": {
      "name": "python"
    },
    "accelerator": "GPU"
  },
  "cells": [
    {
      "cell_type": "markdown",
      "metadata": {
        "id": "view-in-github",
        "colab_type": "text"
      },
      "source": [
        "<a href=\"https://colab.research.google.com/github/GeorgeM2000/DMTE/blob/master/code/DMTE.ipynb\" target=\"_parent\"><img src=\"https://colab.research.google.com/assets/colab-badge.svg\" alt=\"Open In Colab\"/></a>"
      ]
    },
    {
      "cell_type": "markdown",
      "source": [
        "# ***Libraries & Tools***"
      ],
      "metadata": {
        "id": "Lm_6DHW8WU30"
      }
    },
    {
      "cell_type": "code",
      "execution_count": 5,
      "metadata": {
        "id": "wDqukMh63rB7"
      },
      "outputs": [],
      "source": [
        "import argparse\n",
        "import os\n",
        "import random\n",
        "import numpy as np\n",
        "import tensorflow as tf\n",
        "from math import pow\n",
        "from datetime import datetime\n",
        "from pathlib import Path\n",
        "import shutil\n",
        "from tqdm import tqdm\n",
        "import zipfile\n",
        "from collections import defaultdict\n",
        "from sklearn.preprocessing import normalize"
      ]
    },
    {
      "cell_type": "code",
      "source": [
        "!pwd"
      ],
      "metadata": {
        "id": "Cs_tnKOwef_Q"
      },
      "execution_count": null,
      "outputs": []
    },
    {
      "cell_type": "markdown",
      "source": [
        "# ***Global Variables***"
      ],
      "metadata": {
        "id": "Rt0e5GPf8RBx"
      }
    },
    {
      "cell_type": "code",
      "source": [
        "MAX_LEN=300\n",
        "neg_table_size=1000000\n",
        "NEG_SAMPLE_POWER=0.75\n",
        "batch_size=64\n",
        "num_epoch=200 # Default: 200\n",
        "embed_size=200\n",
        "word_embed_size=200\n",
        "lr=1e-3"
      ],
      "metadata": {
        "id": "0iTSFdmS8THg"
      },
      "execution_count": 76,
      "outputs": []
    },
    {
      "cell_type": "code",
      "source": [
        "datasetName = \"cora\"\n",
        "dataTextFile = \"data.txt\"\n",
        "ratio = 0.15\n",
        "alpha = 0.3\n",
        "beta = 0.1\n",
        "gamma = 0.0\n",
        "delta = 0.0"
      ],
      "metadata": {
        "id": "4Y-INwI4KbIs"
      },
      "execution_count": 103,
      "outputs": []
    },
    {
      "cell_type": "code",
      "source": [
        "max_word_count = 0\n",
        "min_word_count = float('inf')\n",
        "\n",
        "with open(f'/content/datasets/{datasetName}/{dataTextFile}', 'r') as file:\n",
        "    for line in file:\n",
        "        word_count = len(line.split())\n",
        "\n",
        "        if word_count > max_word_count:\n",
        "            max_word_count = word_count\n",
        "\n",
        "        if word_count < min_word_count:\n",
        "            min_word_count = word_count\n",
        "\n",
        "print(\"Max word count:\", max_word_count)\n",
        "print(\"Min word count:\", min_word_count)\n",
        "\n",
        "\n",
        "MAX_LEN = max_word_count + 1"
      ],
      "metadata": {
        "colab": {
          "base_uri": "https://localhost:8080/"
        },
        "id": "0xEhbCPl7UQY",
        "outputId": "cb348bd4-2dac-4669-932a-39558ba0ca57"
      },
      "execution_count": null,
      "outputs": [
        {
          "output_type": "stream",
          "name": "stdout",
          "text": [
            "Max word count: 473\n",
            "Min word count: 10\n"
          ]
        }
      ]
    },
    {
      "cell_type": "code",
      "source": [
        "zip_file_path = '/content/data.zip'\n",
        "extract_to = f'/content/datasets/{datasetName}'\n",
        "\n",
        "# Open and extract the zip file\n",
        "with zipfile.ZipFile(zip_file_path, 'r') as zip_ref:\n",
        "    zip_ref.extractall(extract_to)\n",
        "\n",
        "print(\"Extraction complete!\")"
      ],
      "metadata": {
        "id": "sdXCdfP_-hHD",
        "outputId": "8362d0d7-ea0c-4ce5-fde7-d5c44a838a94",
        "colab": {
          "base_uri": "https://localhost:8080/"
        }
      },
      "execution_count": null,
      "outputs": [
        {
          "output_type": "stream",
          "name": "stdout",
          "text": [
            "Extraction complete!\n"
          ]
        }
      ]
    },
    {
      "cell_type": "code",
      "source": [
        "def sub_Mat(P, node):\n",
        "\n",
        "    sub_P = np.zeros((len(node),len(node)))\n",
        "    for i in range(len(node)):\n",
        "        for j in range(len(node)):\n",
        "            sub_P[i,j] = P[node[i],node[j]]\n",
        "\n",
        "    return sub_P"
      ],
      "metadata": {
        "id": "vcWCLJQxVIlg"
      },
      "execution_count": 68,
      "outputs": []
    },
    {
      "cell_type": "markdown",
      "source": [
        "# ***DataSet***"
      ],
      "metadata": {
        "id": "UwNH2N0iVJ1Y"
      }
    },
    {
      "cell_type": "code",
      "source": [
        "class dataSet:\n",
        "    def __init__(self, text_path, graph_path, labels_path=None):\n",
        "\n",
        "        #text_file, graph_file, labels_file = self.load(text_path, graph_path, labels_path)\n",
        "        text_file, graph_file = self.load(text_path, graph_path)\n",
        "\n",
        "        self.edges = self.load_edges(graph_file)\n",
        "\n",
        "        #self.labels = self.load_labels(labels_file)\n",
        "\n",
        "        self.text, self.num_vocab, self.num_nodes = self.load_text(text_file)\n",
        "\n",
        "        self.nodes = range(0, self.num_nodes)\n",
        "\n",
        "        self.negative_table = InitNegTable(self.edges)\n",
        "\n",
        "        self.P = self.P_matrix(self.edges, self.num_nodes)\n",
        "\n",
        "    \"\"\"\n",
        "    def load(self, text_path, graph_path, labels_path):\n",
        "        text_file = open(text_path, 'rb').readlines()\n",
        "        graph_file = open(graph_path, 'rb').readlines()\n",
        "        labels_file = open(labels_path, 'rb').readlines()\n",
        "\n",
        "        return text_file, graph_file, label_file\n",
        "    \"\"\"\n",
        "\n",
        "    def load(self, text_path, graph_path):\n",
        "        text_file = open(text_path, 'rb').readlines()\n",
        "        graph_file = open(graph_path, 'rb').readlines()\n",
        "\n",
        "        return text_file, graph_file\n",
        "\n",
        "    def load_edges(self, graph_file):\n",
        "        edges = []\n",
        "        for i in graph_file:\n",
        "            if np.random.uniform(0.0, 1.0) <= ratio:\n",
        "                edges.append(list(map(int, i.strip().decode().split('\\t'))))\n",
        "\n",
        "        return edges\n",
        "\n",
        "    def load_labels(self, labels_file):\n",
        "      labels = []\n",
        "      for i in labels_file:\n",
        "        labels.append(list(map(int, i.strip().decode().split(','))))\n",
        "\n",
        "      return labels\n",
        "\n",
        "    def adj_list(self, edges):\n",
        "      node1, node2 = zip(*edges)\n",
        "\n",
        "      # Create adjacency list\n",
        "      adj_list = defaultdict(list)\n",
        "      for n1, n2 in edges:\n",
        "          adj_list[n1].append(n2)\n",
        "          adj_list[n2].append(n1)\n",
        "\n",
        "      return dict(adj_list)\n",
        "\n",
        "    def load_text(self, text_file):\n",
        "        \"\"\"\n",
        "        Adapting with adapt(text_data):\n",
        "\n",
        "        vectorize_layer.adapt(text_data) analyzes text_data, builds a vocabulary, and assigns a unique integer ID to each word based on its frequency (most frequent words get lower IDs).\n",
        "        Transforming with vectorize_layer(text_data):\n",
        "\n",
        "        This maps each word in text_data to its corresponding integer token ID, producing a 2D array where each row represents a sequence of token IDs for a given input line, padded or truncated to max_len.\n",
        "        \"\"\"\n",
        "        vectorize_layer = tf.keras.layers.TextVectorization(\n",
        "            max_tokens=None,  # Set a limit if needed\n",
        "            output_mode='int',\n",
        "            output_sequence_length=MAX_LEN\n",
        "        )\n",
        "\n",
        "        text_data = [line.strip() for line in text_file]\n",
        "\n",
        "        vectorize_layer.adapt(text_data)\n",
        "\n",
        "        text = vectorize_layer(text_data).numpy()\n",
        "\n",
        "        num_vocab = len(vectorize_layer.get_vocabulary())\n",
        "        print(f'Vocabulary: {num_vocab}')\n",
        "        num_nodes = len(text)\n",
        "\n",
        "        return text, num_vocab, num_nodes\n",
        "\n",
        "    def negative_sample(self, edges):\n",
        "        # edges is the sample_edges in self.generate_batches()\n",
        "        node1, node2 = zip(*edges)\n",
        "        sample_edges = []\n",
        "\n",
        "        # The negative table contains edges that don not exist\n",
        "        func = lambda: self.negative_table[random.randint(0, neg_table_size - 1)] # Pick a random node from the negative table\n",
        "\n",
        "        # For each edge...\n",
        "        for i in range(len(edges)):\n",
        "            neg_node = func() # Pick a negative node\n",
        "\n",
        "            # If the negative node is identical to the first and second node in the current edge...\n",
        "            while node1[i] == neg_node or node2[i] == neg_node:\n",
        "                neg_node = func() # Pick another negative node until the neg node is different than the first and second node in the current edge\n",
        "\n",
        "            # Create a new type of edge that has an additional node, the negative node\n",
        "            sample_edges.append([node1[i], node2[i], neg_node])\n",
        "\n",
        "        return sample_edges\n",
        "\n",
        "    def generate_batches(self, mode=None):\n",
        "\n",
        "        num_batch = len(self.edges) // batch_size\n",
        "        edges = self.edges\n",
        "        if mode == 'add':\n",
        "            num_batch += 1\n",
        "            edges.extend(edges[:(batch_size - len(self.edges) % batch_size)])\n",
        "        if mode != 'add':\n",
        "            random.shuffle(edges)\n",
        "        sample_edges = edges[:num_batch * batch_size]\n",
        "\n",
        "        # For each edge in \"sample_edges\", add a negative edge\n",
        "        sample_edges = self.negative_sample(sample_edges)\n",
        "\n",
        "        # Create batches of edges\n",
        "\n",
        "        \"\"\"\n",
        "        The first batch range is 0 -- batch_size - 1\n",
        "        The second batch range is batch_size -- 2 * batch_size - 1\n",
        "        The third batch range is 2 * batch_size -- 3* batch_size - 1 and so on\n",
        "        \"\"\"\n",
        "        batches = []\n",
        "        for i in range(num_batch):\n",
        "            batches.append(sample_edges[i * batch_size:(i + 1) * batch_size])\n",
        "\n",
        "        return batches\n",
        "\n",
        "    def nodes_batches(self, mode=None):\n",
        "\n",
        "        num_batch = len(self.nodes) // batch_size\n",
        "        nodes = self.nodes\n",
        "        if mode == 'add':\n",
        "            num_batch += 1\n",
        "            nodes.extend(nodes[:(batch_size - len(self.nodes) % batch_size)])\n",
        "            random.shuffle(nodes)\n",
        "        if mode != 'add':\n",
        "            random.shuffle(nodes)\n",
        "        sample_nodes = nodes[:num_batch * batch_size]\n",
        "\n",
        "        batches = []\n",
        "        for i in range(num_batch):\n",
        "            batches.append(sample_nodes[i * batch_size:(i + 1) * batch_size])\n",
        "        return batches\n",
        "\n",
        "    def P_matrix(self, edges, num_nodes):\n",
        "        # Take all the edges\n",
        "        a_list,b_list=zip(*edges)\n",
        "        a_list=list(a_list) # This list contains the first nodes in all edges\n",
        "        b_list=list(b_list) # This list contains the second nodes in all edges\n",
        "\n",
        "        P = np.zeros((num_nodes,num_nodes))\n",
        "\n",
        "        for i in range(len(a_list)):\n",
        "            P[a_list[i],b_list[i]]=1 # The prob of transitioning from \"a_list[i]\" to \"b_list[i]\". Initially it's 1 for unweighted graphs\n",
        "            P[b_list[i],a_list[i]]=1 # The prob of transitioning from \"b_list[i]\" to \"a_list[i]\". Initially it's 1 for unweighted graphs\n",
        "\n",
        "        P = normalize(P, axis=1, norm='l1') # We normalize P\n",
        "\n",
        "        return P"
      ],
      "metadata": {
        "id": "-KcJkcNBs_G3"
      },
      "execution_count": 69,
      "outputs": []
    },
    {
      "cell_type": "markdown",
      "source": [
        "# ***DMTE***"
      ],
      "metadata": {
        "id": "-AV9wwI_7NSC"
      }
    },
    {
      "cell_type": "code",
      "source": [
        "class Model:\n",
        "    def __init__(self, vocab_size, num_nodes, num_labels=None):\n",
        "        # '''hyperparameter'''\n",
        "        with tf.name_scope('read_inputs') as scope:\n",
        "            self.Text_a = tf.compat.v1.placeholder(tf.int32, [batch_size, MAX_LEN], name='Ta')\n",
        "            self.Text_b = tf.compat.v1.placeholder(tf.int32, [batch_size, MAX_LEN], name='Tb')\n",
        "            self.Text_neg = tf.compat.v1.placeholder(tf.int32, [batch_size, MAX_LEN], name='Tneg')\n",
        "            self.Node_a = tf.compat.v1.placeholder(tf.int32, [batch_size], name='n1')\n",
        "            self.Node_b = tf.compat.v1.placeholder(tf.int32, [batch_size], name='n2')\n",
        "            self.Node_neg = tf.compat.v1.placeholder(tf.int32, [batch_size], name='n3')\n",
        "            self.P_a = tf.compat.v1.placeholder(tf.float32, [batch_size, batch_size], name='Pa')\n",
        "            self.P_b = tf.compat.v1.placeholder(tf.float32, [batch_size, batch_size], name='Pb')\n",
        "            self.P_neg = tf.compat.v1.placeholder(tf.float32, [batch_size, batch_size], name='Pneg')\n",
        "            #self.labels = tf.compat.v1.placeholder(tf.int32, [batch_size, num_labels], name='L')\n",
        "\n",
        "        with tf.name_scope('initialize_embedding') as scope:\n",
        "            self.text_embed = tf.Variable(tf.random.truncated_normal([vocab_size, word_embed_size], stddev=0.3))\n",
        "            self.node_embed = tf.Variable(tf.random.truncated_normal([num_nodes, embed_size // 2], stddev=0.3))\n",
        "            self.node_embed = tf.clip_by_norm(self.node_embed, clip_norm=1, axes=1)\n",
        "\n",
        "        with tf.name_scope('lookup_embeddings') as scope:\n",
        "            self.TA = tf.nn.embedding_lookup(self.text_embed, self.Text_a)\n",
        "            self.T_A = tf.expand_dims(self.TA, -1)\n",
        "\n",
        "            self.TB = tf.nn.embedding_lookup(self.text_embed, self.Text_b)\n",
        "            self.T_B = tf.expand_dims(self.TB, -1)\n",
        "\n",
        "            self.TNEG = tf.nn.embedding_lookup(self.text_embed, self.Text_neg)\n",
        "            self.T_NEG = tf.expand_dims(self.TNEG, -1)\n",
        "\n",
        "            self.N_A = tf.nn.embedding_lookup(self.node_embed, self.Node_a)\n",
        "            self.N_B = tf.nn.embedding_lookup(self.node_embed, self.Node_b)\n",
        "            self.N_NEG = tf.nn.embedding_lookup(self.node_embed, self.Node_neg)\n",
        "\n",
        "        self.convA, self.convB, self.convNeg = self.conv()\n",
        "        self.loss = self.compute_loss()\n",
        "\n",
        "    def conv(self):\n",
        "\n",
        "        W0 = tf.Variable(tf.random.truncated_normal([word_embed_size, embed_size // 2], stddev=0.3))\n",
        "        W1 = tf.Variable(tf.random.truncated_normal([word_embed_size, embed_size // 2], stddev=0.3))\n",
        "        W2 = tf.Variable(tf.random.truncated_normal([word_embed_size, embed_size // 2], stddev=0.3))\n",
        "        W3 = tf.Variable(tf.random.truncated_normal([word_embed_size, embed_size // 2], stddev=0.3))\n",
        "        W4 = tf.Variable(tf.random.truncated_normal([word_embed_size, embed_size // 2], stddev=0.3))\n",
        "\n",
        "        mA = tf.reduce_mean(self.T_A, axis=1, keepdims=True)\n",
        "        mB = tf.reduce_mean(self.T_B, axis=1, keepdims=True)\n",
        "        mNEG = tf.reduce_mean(self.T_NEG, axis=1, keepdims=True)\n",
        "\n",
        "        convA = tf.tanh(tf.squeeze(mA))\n",
        "        convB = tf.tanh(tf.squeeze(mB))\n",
        "        convNEG = tf.tanh(tf.squeeze(mNEG))\n",
        "\n",
        "        attA = tf.matmul(convA, W0) + alpha * tf.matmul(tf.matmul(self.P_a, convA), W1) + beta * tf.matmul(tf.matmul(tf.math.square(self.P_a), convA), W2) + gamma * tf.matmul(tf.matmul(tf.math.pow(self.P_a, 3), convA), W3) + delta * tf.matmul(tf.matmul(tf.math.pow(self.P_a, 4), convA), W4)\n",
        "        attB = tf.matmul(convB, W0) + alpha * tf.matmul(tf.matmul(self.P_b, convB), W1) + beta * tf.matmul(tf.matmul(tf.math.square(self.P_b), convB), W2) + gamma * tf.matmul(tf.matmul(tf.math.pow(self.P_b, 3), convB), W3) + delta * tf.matmul(tf.matmul(tf.math.pow(self.P_b, 4), convB), W4)\n",
        "        attNEG = tf.matmul(convNEG, W0) + alpha * tf.matmul(tf.matmul(self.P_a, convNEG), W1) + beta * tf.matmul(tf.matmul(tf.math.square(self.P_a), convNEG), W2) + gamma * tf.matmul(tf.matmul(tf.math.pow(self.P_a, 3), convNEG), W3) + delta * tf.matmul(tf.matmul(tf.math.pow(self.P_a, 4), convNEG), W4)\n",
        "\n",
        "        return attA, attB, attNEG\n",
        "\n",
        "    def compute_loss(self):\n",
        "\n",
        "        # Loss functions for:\n",
        "\n",
        "\n",
        "        # Text-Text\n",
        "        p1 = tf.math.log(tf.nn.sigmoid(tf.reduce_sum(tf.multiply(self.convA, self.convB), 1)) + 0.001)\n",
        "\n",
        "        p2 = tf.math.log(tf.nn.sigmoid(-tf.reduce_sum(tf.multiply(self.convA, self.convNeg), 1)) + 0.001)\n",
        "\n",
        "        p11 = tf.math.log(tf.nn.sigmoid(tf.reduce_sum(tf.multiply(self.convB, self.convA), 1)) + 0.001)\n",
        "\n",
        "        p12 = tf.math.log(tf.nn.sigmoid(-tf.reduce_sum(tf.multiply(self.convB, self.convNeg), 1)) + 0.001)\n",
        "\n",
        "\n",
        "\n",
        "        # Node-Node\n",
        "        p3 = tf.math.log(tf.nn.sigmoid(tf.reduce_sum(tf.multiply(self.N_A + alpha * tf.matmul(self.P_a, self.N_A) + beta * tf.matmul(tf.math.square(self.P_a), self.N_A), self.N_B), 1)) + 0.001)\n",
        "\n",
        "        p4 = tf.math.log(tf.nn.sigmoid(-tf.reduce_sum(tf.multiply(self.N_A + alpha * tf.matmul(self.P_a, self.N_A) + beta * tf.matmul(tf.math.square(self.P_a), self.N_A), self.N_NEG), 1)) + 0.001)\n",
        "\n",
        "        p13 = tf.math.log(tf.nn.sigmoid(tf.reduce_sum(tf.multiply(self.N_B + alpha * tf.matmul(self.P_b, self.N_B) + beta * tf.matmul(tf.math.square(self.P_b), self.N_B), self.N_A), 1)) + 0.001)\n",
        "\n",
        "        p14 = tf.math.log(tf.nn.sigmoid(-tf.reduce_sum(tf.multiply(self.N_B + alpha * tf.matmul(self.P_b, self.N_B) + beta * tf.matmul(tf.math.square(self.P_b), self.N_B), self.N_NEG), 1)) + 0.001)\n",
        "\n",
        "\n",
        "\n",
        "\n",
        "        # Node-Text\n",
        "        p5 = tf.math.log(tf.nn.sigmoid(tf.reduce_sum(tf.multiply(self.N_A + alpha * tf.matmul(self.P_a, self.N_A) + beta * tf.matmul(tf.math.square(self.P_a), self.N_A), self.convB), 1)) + 0.001)\n",
        "\n",
        "        p6 = tf.math.log(tf.nn.sigmoid(-tf.reduce_sum(tf.multiply(self.N_A + alpha * tf.matmul(self.P_a, self.N_A) + beta * tf.matmul(tf.math.square(self.P_a), self.N_A), self.convNeg), 1)) + 0.001)\n",
        "\n",
        "        p15 = tf.math.log(tf.nn.sigmoid(tf.reduce_sum(tf.multiply(self.N_B + alpha * tf.matmul(self.P_b, self.N_B) + beta * tf.matmul(tf.math.square(self.P_b), self.N_B), self.convA), 1)) + 0.001)\n",
        "\n",
        "        p16 = tf.math.log(tf.nn.sigmoid(-tf.reduce_sum(tf.multiply(self.N_B + alpha * tf.matmul(self.P_b, self.N_B) + beta * tf.matmul(tf.math.square(self.P_b), self.N_B), self.convNeg), 1)) + 0.001)\n",
        "\n",
        "\n",
        "\n",
        "        # Text-Node\n",
        "        p7 = tf.math.log(tf.nn.sigmoid(tf.reduce_sum(tf.multiply(self.convA, self.N_B), 1)) + 0.001)\n",
        "\n",
        "        p8 = tf.math.log(tf.nn.sigmoid(-tf.reduce_sum(tf.multiply(self.convA, self.N_NEG), 1)) + 0.001)\n",
        "\n",
        "        p17 = tf.math.log(tf.nn.sigmoid(tf.reduce_sum(tf.multiply(self.convB, self.N_A), 1)) + 0.001)\n",
        "\n",
        "        p18 = tf.math.log(tf.nn.sigmoid(-tf.reduce_sum(tf.multiply(self.convB, self.N_NEG), 1)) + 0.001)\n",
        "\n",
        "        rho1 = 1.0\n",
        "        rho2 = 0.3\n",
        "        rho3 = 0.3\n",
        "        temp_loss = rho1 * (p1 + p2 + p11 + p12) + rho2 * (p3 + p4 + p13 + p14) + rho3 * (p5 + p6 + p15 + p16) + rho3 * (p7 + p8 + p17 + p18)\n",
        "        loss = -tf.reduce_sum(temp_loss)\n",
        "        return loss"
      ],
      "metadata": {
        "id": "S23Tcvj9tQnb"
      },
      "execution_count": 100,
      "outputs": []
    },
    {
      "cell_type": "markdown",
      "source": [
        "# ***Negative Sample***"
      ],
      "metadata": {
        "id": "2Vt_wvryq0oh"
      }
    },
    {
      "cell_type": "code",
      "source": [
        "def InitNegTable(edges):\n",
        "    a_list, b_list = zip(*edges)\n",
        "    a_list = list(a_list)\n",
        "    b_list = list(b_list)\n",
        "    node = a_list\n",
        "    node.extend(b_list)\n",
        "\n",
        "    node_degree = {}\n",
        "    for i in node:\n",
        "        if i in node_degree:\n",
        "            node_degree[i] += 1\n",
        "        else:\n",
        "            node_degree[i] = 1\n",
        "    sum_degree = 0\n",
        "    for i in node_degree.values():\n",
        "        sum_degree += pow(i, 0.75)\n",
        "\n",
        "    por = 0\n",
        "    cur_sum = 0\n",
        "    vid = -1\n",
        "    neg_table = []\n",
        "    degree_list = list(node_degree.values())\n",
        "    node_id = list(node_degree.keys())\n",
        "    for i in range(neg_table_size):\n",
        "        if ((i + 1) / float(neg_table_size)) > por:\n",
        "            cur_sum += pow(degree_list[vid + 1], NEG_SAMPLE_POWER)\n",
        "            por = cur_sum / sum_degree\n",
        "            vid += 1\n",
        "        neg_table.append(node_id[vid])\n",
        "    print(f'Neg. table size: {len(neg_table)}')\n",
        "    return neg_table\n"
      ],
      "metadata": {
        "id": "UdwgdktTq504"
      },
      "execution_count": 71,
      "outputs": []
    },
    {
      "cell_type": "markdown",
      "source": [
        "# ***Run***"
      ],
      "metadata": {
        "id": "rLaqva64WoA0"
      }
    },
    {
      "cell_type": "code",
      "source": [
        "def prepareData(datasetName, ratio):\n",
        "  f = open('/content/datasets/%s/graph.txt' % datasetName, 'rb')\n",
        "  edges = [i for i in f]\n",
        "  selected = int(len(edges) * float(ratio))\n",
        "  selected = selected - selected % batch_size\n",
        "  selected = random.sample(edges, selected)\n",
        "  remain = [i for i in edges if i not in selected]\n",
        "  try:\n",
        "    temp_dir = Path('temp')\n",
        "\n",
        "    # Check if the directory exists, if so, delete it\n",
        "    if temp_dir.exists() and temp_dir.is_dir():\n",
        "        shutil.rmtree(temp_dir)\n",
        "        print(\"Existing directory deleted.\")\n",
        "\n",
        "    # Create the directory\n",
        "    temp_dir.mkdir(parents=True, exist_ok=True)\n",
        "    print(\"Directory created successfully.\")\n",
        "\n",
        "  except Exception as e:\n",
        "      print(f\"An error occurred: {e}\")\n",
        "\n",
        "  fw1 = open('temp/graph.txt', 'wb')\n",
        "  fw2 = open('temp/test_graph.txt', 'wb')\n",
        "\n",
        "  for i in selected:\n",
        "      fw1.write(i)\n",
        "  for i in remain:\n",
        "      fw2.write(i)"
      ],
      "metadata": {
        "id": "dgbe18H4WsgX"
      },
      "execution_count": 72,
      "outputs": []
    },
    {
      "cell_type": "code",
      "source": [
        "prepareData(datasetName, ratio)"
      ],
      "metadata": {
        "id": "yK_Z-E1HXRVm",
        "colab": {
          "base_uri": "https://localhost:8080/"
        },
        "outputId": "33d4d4bb-4d86-4a48-e313-995fe0d0f057"
      },
      "execution_count": 93,
      "outputs": [
        {
          "output_type": "stream",
          "name": "stdout",
          "text": [
            "Existing directory deleted.\n",
            "Directory created successfully.\n"
          ]
        }
      ]
    },
    {
      "cell_type": "code",
      "source": [
        "# load data\n",
        "dataset_name = datasetName\n",
        "graph_path = os.path.join('/content/temp/graph.txt')\n",
        "text_path = os.path.join(\"/content\", \"datasets\", dataset_name, dataTextFile)\n",
        "\n",
        "data = dataSet(text_path, graph_path)"
      ],
      "metadata": {
        "colab": {
          "base_uri": "https://localhost:8080/"
        },
        "id": "-wFgChvWggiu",
        "outputId": "37b2271a-dcb9-4de1-bd94-1e0e5b813b02"
      },
      "execution_count": 94,
      "outputs": [
        {
          "output_type": "stream",
          "name": "stdout",
          "text": [
            "Vocabulary: 14696\n",
            "Neg. table size: 1000000\n"
          ]
        }
      ]
    },
    {
      "cell_type": "code",
      "source": [
        "with tf.Graph().as_default():\n",
        "    sess = tf.compat.v1.Session()\n",
        "    with sess.as_default():\n",
        "        model = Model(data.num_vocab, data.num_nodes)\n",
        "        opt = tf.compat.v1.train.AdamOptimizer(lr)#tf.keras.optimizers.Adam(learning_rate=lr)\n",
        "        train_op = opt.minimize(model.loss)#opt.minimize(model.loss, var_list=model.trainable_variables)\n",
        "        sess.run(tf.compat.v1.global_variables_initializer())\n",
        "        time = 0\n",
        "\n",
        "        # training\n",
        "        print('start training.......')\n",
        "\n",
        "\n",
        "        for epoch in tqdm(range(num_epoch), desc=\"Epochs\"):\n",
        "            start = datetime.now()\n",
        "            loss_epoch = 0\n",
        "            batches = data.generate_batches()\n",
        "            h1 = 0\n",
        "            num_batch = len(batches)\n",
        "            for i in range(num_batch):\n",
        "                batch = batches[i]\n",
        "\n",
        "                node1, node2, node3 = zip(*batch)\n",
        "                node1, node2, node3 = np.array(node1), np.array(node2), np.array(node3)\n",
        "                text1, text2, text3 = data.text[node1], data.text[node2], data.text[node3]\n",
        "                #labels1, labels2 = data.labels[node1], data.labels[node2]\n",
        "                #labels = [max(a, b) for a, b in zip(labels1, labels2)]\n",
        "                P1, P2, P3 = sub_Mat(data.P, node1), sub_Mat(data.P, node2), sub_Mat(data.P, node3)\n",
        "\n",
        "\n",
        "                feed_dict = {\n",
        "                    model.Text_a: text1,\n",
        "                    model.Text_b: text2,\n",
        "                    model.Text_neg: text3,\n",
        "                    model.Node_a: node1,\n",
        "                    model.Node_b: node2,\n",
        "                    model.Node_neg: node3,\n",
        "                    model.P_a: P1,\n",
        "                    model.P_b: P2,\n",
        "                    model.P_neg: P3\n",
        "                    #model.labels: labels\n",
        "                }\n",
        "\n",
        "                # run the graph\n",
        "                _, loss_batch = sess.run([train_op, model.loss], feed_dict=feed_dict)\n",
        "\n",
        "                loss_epoch += loss_batch\n",
        "\n",
        "            end = datetime.now()\n",
        "            time += (end - start).total_seconds()\n",
        "            print('epoch: ', epoch + 1, ' loss: ', loss_epoch)\n",
        "\n",
        "        print(f'Time: {time}')\n",
        "        # Saving embeddings\n",
        "        with open('temp/embed.txt', 'wb') as file:\n",
        "            batches = data.generate_batches(mode='add')\n",
        "            num_batch = len(batches)\n",
        "            embed = [[] for _ in range(data.num_nodes)]\n",
        "\n",
        "            for i in range(num_batch):\n",
        "                batch = batches[i]\n",
        "                node1, node2, node3 = zip(*batch)\n",
        "                node1, node2, node3 = np.array(node1), np.array(node2), np.array(node3)\n",
        "                text1, text2, text3 = data.text[node1], data.text[node2], data.text[node3]\n",
        "                #labels1, labels2 = data.labels[node1], data.labels[node2]\n",
        "                #labels = [max(a, b) for a, b in zip(labels1, labels2)]\n",
        "                P1, P2, P3 = sub_Mat(data.P, node1), sub_Mat(data.P, node2), sub_Mat(data.P, node3)\n",
        "\n",
        "                feed_dict = {\n",
        "                    model.Text_a: text1,\n",
        "                    model.Text_b: text2,\n",
        "                    model.Text_neg: text3,\n",
        "                    model.Node_a: node1,\n",
        "                    model.Node_b: node2,\n",
        "                    model.Node_neg: node3,\n",
        "                    model.P_a: P1,\n",
        "                    model.P_b: P2,\n",
        "                    model.P_neg: P3\n",
        "                    #model.labels: labels\n",
        "                }\n",
        "\n",
        "                # Fetch embeddings\n",
        "                #convA, convB, TA, TB = sess.run([model.convA, model.convB, model.N_A, model.N_B])\n",
        "                convA, convB, TA, TB = sess.run([model.convA, model.convB, model.N_A, model.N_B], feed_dict=feed_dict)\n",
        "\n",
        "                # For each node in the batch\n",
        "                for j in range(batch_size):\n",
        "                    em = list(convA[j]) + list(TA[j]) # Create an embedding by concatenating the text (convA) and node (TA) embeddings\n",
        "                    embed[node1[j]].append(em) # A node can appear many times in edges. Thus, each time that node will have a different embedding. Append the different embeddings for a particular node\n",
        "\n",
        "                    em = list(convB[j]) + list(TB[j]) # Create an embedding by concatenating the text (convA) and node (TA) embeddings\n",
        "                    embed[node2[j]].append(em)\n",
        "\n",
        "\n",
        "            for i in range(data.num_nodes):\n",
        "                if embed[i]:\n",
        "                    tmp = np.mean(embed[i], axis=0) #/ len(embed[i]) # If a node has many different embeddings, take their mean.\n",
        "                    file.write((' '.join(map(str, tmp)) + '\\n').encode())\n",
        "                else:\n",
        "                    file.write('\\n'.encode())\n",
        ""
      ],
      "metadata": {
        "id": "1QsRmNqLXrGb",
        "outputId": "7e61cc76-0197-422b-abff-e79718ade84a",
        "colab": {
          "base_uri": "https://localhost:8080/"
        }
      },
      "execution_count": 104,
      "outputs": [
        {
          "output_type": "stream",
          "name": "stdout",
          "text": [
            "start training.......\n"
          ]
        },
        {
          "output_type": "stream",
          "name": "stderr",
          "text": [
            "Epochs:   2%|▏         | 3/200 [00:03<02:40,  1.23it/s]"
          ]
        },
        {
          "output_type": "stream",
          "name": "stdout",
          "text": [
            "epoch:  1  loss:  4119.76611328125\n",
            "epoch:  2  loss:  4136.9903564453125\n",
            "epoch:  3  loss:  4127.1761474609375\n"
          ]
        },
        {
          "output_type": "stream",
          "name": "stderr",
          "text": [
            "\rEpochs:   2%|▎         | 5/200 [00:03<01:24,  2.31it/s]"
          ]
        },
        {
          "output_type": "stream",
          "name": "stdout",
          "text": [
            "epoch:  4  loss:  4120.839050292969\n",
            "epoch:  5  loss:  4038.7012329101562\n",
            "epoch:  6  loss:  3971.1140747070312\n"
          ]
        },
        {
          "output_type": "stream",
          "name": "stderr",
          "text": [
            "Epochs:   4%|▍         | 9/200 [00:03<00:38,  4.97it/s]"
          ]
        },
        {
          "output_type": "stream",
          "name": "stdout",
          "text": [
            "epoch:  7  loss:  3614.0501098632812\n",
            "epoch:  8  loss:  2603.5908203125\n",
            "epoch:  9  loss:  1690.70849609375\n"
          ]
        },
        {
          "output_type": "stream",
          "name": "stderr",
          "text": [
            "\rEpochs:   6%|▌         | 11/200 [00:03<00:29,  6.43it/s]"
          ]
        },
        {
          "output_type": "stream",
          "name": "stdout",
          "text": [
            "epoch:  10  loss:  1436.6168212890625\n",
            "epoch:  11  loss:  1368.0758056640625\n",
            "epoch:  12  loss:  1443.6529235839844\n"
          ]
        },
        {
          "output_type": "stream",
          "name": "stderr",
          "text": [
            "\rEpochs:   6%|▋         | 13/200 [00:03<00:26,  6.93it/s]"
          ]
        },
        {
          "output_type": "stream",
          "name": "stdout",
          "text": [
            "epoch:  13  loss:  1372.9758911132812\n",
            "epoch:  14  loss:  1356.190185546875\n"
          ]
        },
        {
          "output_type": "stream",
          "name": "stderr",
          "text": [
            "\rEpochs:   8%|▊         | 15/200 [00:04<00:26,  6.88it/s]"
          ]
        },
        {
          "output_type": "stream",
          "name": "stdout",
          "text": [
            "epoch:  15  loss:  1338.4217529296875\n",
            "epoch:  16  loss:  1309.3661804199219\n"
          ]
        },
        {
          "output_type": "stream",
          "name": "stderr",
          "text": [
            "Epochs:   9%|▉         | 18/200 [00:04<00:26,  6.88it/s]"
          ]
        },
        {
          "output_type": "stream",
          "name": "stdout",
          "text": [
            "epoch:  17  loss:  1297.1427001953125\n",
            "epoch:  18  loss:  1296.3958129882812\n"
          ]
        },
        {
          "output_type": "stream",
          "name": "stderr",
          "text": [
            "Epochs:  10%|█         | 21/200 [00:04<00:21,  8.20it/s]"
          ]
        },
        {
          "output_type": "stream",
          "name": "stdout",
          "text": [
            "epoch:  19  loss:  1284.4850463867188\n",
            "epoch:  20  loss:  1275.9586791992188\n",
            "epoch:  21  loss:  1267.2528686523438\n"
          ]
        },
        {
          "output_type": "stream",
          "name": "stderr",
          "text": [
            "Epochs:  12%|█▏        | 23/200 [00:05<00:20,  8.57it/s]"
          ]
        },
        {
          "output_type": "stream",
          "name": "stdout",
          "text": [
            "epoch:  22  loss:  1267.871337890625\n",
            "epoch:  23  loss:  1258.3843688964844\n"
          ]
        },
        {
          "output_type": "stream",
          "name": "stderr",
          "text": [
            "Epochs:  13%|█▎        | 26/200 [00:05<00:18,  9.47it/s]"
          ]
        },
        {
          "output_type": "stream",
          "name": "stdout",
          "text": [
            "epoch:  24  loss:  1252.594482421875\n",
            "epoch:  25  loss:  1245.1712036132812\n",
            "epoch:  26  loss:  1240.7978820800781\n"
          ]
        },
        {
          "output_type": "stream",
          "name": "stderr",
          "text": [
            "Epochs:  14%|█▍        | 29/200 [00:05<00:17,  9.87it/s]"
          ]
        },
        {
          "output_type": "stream",
          "name": "stdout",
          "text": [
            "epoch:  27  loss:  1230.2939758300781\n",
            "epoch:  28  loss:  1227.9689331054688\n",
            "epoch:  29  loss:  1219.3521118164062\n"
          ]
        },
        {
          "output_type": "stream",
          "name": "stderr",
          "text": [
            "\rEpochs:  15%|█▌        | 30/200 [00:05<00:17,  9.89it/s]"
          ]
        },
        {
          "output_type": "stream",
          "name": "stdout",
          "text": [
            "epoch:  30  loss:  1208.3528137207031\n",
            "epoch:  31  loss:  1211.3338317871094\n",
            "epoch:  32  loss:  1198.8781127929688"
          ]
        },
        {
          "output_type": "stream",
          "name": "stderr",
          "text": [
            "Epochs:  17%|█▋        | 34/200 [00:06<00:16, 10.08it/s]"
          ]
        },
        {
          "output_type": "stream",
          "name": "stdout",
          "text": [
            "\n",
            "epoch:  33  loss:  1197.9750366210938\n",
            "epoch:  34  loss:  1195.9290161132812\n"
          ]
        },
        {
          "output_type": "stream",
          "name": "stderr",
          "text": [
            "\rEpochs:  18%|█▊        | 36/200 [00:06<00:16,  9.78it/s]"
          ]
        },
        {
          "output_type": "stream",
          "name": "stdout",
          "text": [
            "epoch:  35  loss:  1184.889892578125\n",
            "epoch:  36  loss:  1175.0703125\n",
            "epoch: "
          ]
        },
        {
          "output_type": "stream",
          "name": "stderr",
          "text": [
            "Epochs:  20%|█▉        | 39/200 [00:06<00:15, 10.11it/s]"
          ]
        },
        {
          "output_type": "stream",
          "name": "stdout",
          "text": [
            " 37  loss:  1154.471923828125\n",
            "epoch:  38  loss:  1159.1113586425781\n",
            "epoch:  39  loss:  1149.6515808105469\n"
          ]
        },
        {
          "output_type": "stream",
          "name": "stderr",
          "text": [
            "\rEpochs:  20%|██        | 41/200 [00:06<00:15, 10.15it/s]"
          ]
        },
        {
          "output_type": "stream",
          "name": "stdout",
          "text": [
            "epoch:  40  loss:  1135.9491271972656\n",
            "epoch:  41  loss:  1138.1854858398438\n",
            "epoch:  42  loss:  1141.8928527832031\n"
          ]
        },
        {
          "output_type": "stream",
          "name": "stderr",
          "text": [
            "Epochs:  22%|██▎       | 45/200 [00:07<00:15, 10.10it/s]"
          ]
        },
        {
          "output_type": "stream",
          "name": "stdout",
          "text": [
            "epoch:  43  loss:  1123.284423828125\n",
            "epoch:  44  loss:  1118.8261108398438\n",
            "epoch:  45  loss:  1108.9203186035156\n"
          ]
        },
        {
          "output_type": "stream",
          "name": "stderr",
          "text": [
            "\rEpochs:  24%|██▎       | 47/200 [00:07<00:15,  9.95it/s]"
          ]
        },
        {
          "output_type": "stream",
          "name": "stdout",
          "text": [
            "epoch:  46  loss:  1106.0561218261719\n",
            "epoch:  47  loss:  1100.2786254882812\n"
          ]
        },
        {
          "output_type": "stream",
          "name": "stderr",
          "text": [
            "Epochs:  24%|██▍       | 49/200 [00:07<00:15,  9.71it/s]"
          ]
        },
        {
          "output_type": "stream",
          "name": "stdout",
          "text": [
            "epoch:  48  loss:  1108.6045227050781\n",
            "epoch:  49  loss:  1084.8766479492188\n"
          ]
        },
        {
          "output_type": "stream",
          "name": "stderr",
          "text": [
            "Epochs:  26%|██▌       | 52/200 [00:08<00:14, 10.12it/s]"
          ]
        },
        {
          "output_type": "stream",
          "name": "stdout",
          "text": [
            "epoch:  50  loss:  1069.5071411132812\n",
            "epoch:  51  loss:  1076.1007080078125\n",
            "epoch:  52  loss:  1072.9762573242188\n"
          ]
        },
        {
          "output_type": "stream",
          "name": "stderr",
          "text": [
            "\rEpochs:  27%|██▋       | 54/200 [00:08<00:14, 10.34it/s]"
          ]
        },
        {
          "output_type": "stream",
          "name": "stdout",
          "text": [
            "epoch:  53  loss:  1072.01611328125\n",
            "epoch:  54  loss:  1057.6018981933594\n",
            "epoch:  55  loss:  1072.3761291503906\n"
          ]
        },
        {
          "output_type": "stream",
          "name": "stderr",
          "text": [
            "Epochs:  29%|██▉       | 58/200 [00:08<00:11, 12.45it/s]"
          ]
        },
        {
          "output_type": "stream",
          "name": "stdout",
          "text": [
            "epoch:  56  loss:  1040.3787231445312\n",
            "epoch:  57  loss:  1043.8277893066406\n",
            "epoch:  58  loss:  1051.181640625\n",
            "epoch:  59  loss:  1060.5708923339844\n"
          ]
        },
        {
          "output_type": "stream",
          "name": "stderr",
          "text": [
            "Epochs:  31%|███       | 62/200 [00:08<00:10, 13.66it/s]"
          ]
        },
        {
          "output_type": "stream",
          "name": "stdout",
          "text": [
            "epoch:  60  loss:  1038.047119140625\n",
            "epoch:  61  loss:  1028.4303131103516\n",
            "epoch:  62  loss:  1003.03662109375\n",
            "epoch:  63  loss:  1017.9043426513672\n"
          ]
        },
        {
          "output_type": "stream",
          "name": "stderr",
          "text": [
            "Epochs:  33%|███▎      | 66/200 [00:09<00:09, 14.51it/s]"
          ]
        },
        {
          "output_type": "stream",
          "name": "stdout",
          "text": [
            "epoch:  64  loss:  1003.6477508544922\n",
            "epoch:  65  loss:  1026.6278991699219\n",
            "epoch:  66  loss:  1025.3876953125\n",
            "epoch:  67  loss:  1009.2419281005859\n"
          ]
        },
        {
          "output_type": "stream",
          "name": "stderr",
          "text": [
            "Epochs:  35%|███▌      | 70/200 [00:09<00:08, 15.23it/s]"
          ]
        },
        {
          "output_type": "stream",
          "name": "stdout",
          "text": [
            "epoch:  68  loss:  997.9412536621094\n",
            "epoch:  69  loss:  1003.7948608398438\n",
            "epoch:  70  loss:  978.5798492431641\n",
            "epoch:  71  loss:  996.1793060302734\n"
          ]
        },
        {
          "output_type": "stream",
          "name": "stderr",
          "text": [
            "Epochs:  37%|███▋      | 74/200 [00:09<00:08, 15.30it/s]"
          ]
        },
        {
          "output_type": "stream",
          "name": "stdout",
          "text": [
            "epoch:  72  loss:  989.6399841308594\n",
            "epoch:  73  loss:  1000.6149749755859\n",
            "epoch:  74  loss:  1001.0713348388672\n",
            "epoch:  75  loss:  962.5664367675781\n"
          ]
        },
        {
          "output_type": "stream",
          "name": "stderr",
          "text": [
            "Epochs:  39%|███▉      | 78/200 [00:09<00:07, 15.47it/s]"
          ]
        },
        {
          "output_type": "stream",
          "name": "stdout",
          "text": [
            "epoch:  76  loss:  965.3010711669922\n",
            "epoch:  77  loss:  970.9251556396484\n",
            "epoch:  78  loss:  980.6015014648438\n",
            "epoch:  79  loss:  1004.8473510742188\n"
          ]
        },
        {
          "output_type": "stream",
          "name": "stderr",
          "text": [
            "Epochs:  41%|████      | 82/200 [00:10<00:07, 15.75it/s]"
          ]
        },
        {
          "output_type": "stream",
          "name": "stdout",
          "text": [
            "epoch:  80  loss:  965.3785552978516\n",
            "epoch:  81  loss:  976.3072357177734\n",
            "epoch:  82  loss:  962.5125732421875\n",
            "epoch:  83  loss:  971.0359954833984\n"
          ]
        },
        {
          "output_type": "stream",
          "name": "stderr",
          "text": [
            "Epochs:  43%|████▎     | 86/200 [00:10<00:07, 16.03it/s]"
          ]
        },
        {
          "output_type": "stream",
          "name": "stdout",
          "text": [
            "epoch:  84  loss:  956.6593627929688\n",
            "epoch:  85  loss:  953.92138671875\n",
            "epoch:  86  loss:  965.8691711425781\n",
            "epoch:  87  loss:  971.9289703369141\n"
          ]
        },
        {
          "output_type": "stream",
          "name": "stderr",
          "text": [
            "Epochs:  45%|████▌     | 90/200 [00:10<00:06, 15.86it/s]"
          ]
        },
        {
          "output_type": "stream",
          "name": "stdout",
          "text": [
            "epoch:  88  loss:  956.5662231445312\n",
            "epoch:  89  loss:  944.5313720703125\n",
            "epoch:  90  loss:  926.5739440917969\n",
            "epoch:  91  loss:  930.0012054443359\n"
          ]
        },
        {
          "output_type": "stream",
          "name": "stderr",
          "text": [
            "Epochs:  47%|████▋     | 94/200 [00:10<00:06, 15.85it/s]"
          ]
        },
        {
          "output_type": "stream",
          "name": "stdout",
          "text": [
            "epoch:  92  loss:  942.0923156738281\n",
            "epoch:  93  loss:  943.0169525146484\n",
            "epoch:  94  loss:  925.4425964355469\n",
            "epoch:  95  loss:  940.9466094970703\n"
          ]
        },
        {
          "output_type": "stream",
          "name": "stderr",
          "text": [
            "Epochs:  49%|████▉     | 98/200 [00:11<00:06, 16.20it/s]"
          ]
        },
        {
          "output_type": "stream",
          "name": "stdout",
          "text": [
            "epoch:  96  loss:  922.9235687255859\n",
            "epoch:  97  loss:  927.4575958251953\n",
            "epoch:  98  loss:  931.0446472167969\n",
            "epoch:  99  loss:  917.2550506591797\n"
          ]
        },
        {
          "output_type": "stream",
          "name": "stderr",
          "text": [
            "Epochs:  51%|█████     | 102/200 [00:11<00:05, 16.41it/s]"
          ]
        },
        {
          "output_type": "stream",
          "name": "stdout",
          "text": [
            "epoch:  100  loss:  949.9461364746094\n",
            "epoch:  101  loss:  929.4538269042969\n",
            "epoch:  102  loss:  926.0948333740234\n",
            "epoch:  103  loss:  901.2156524658203\n"
          ]
        },
        {
          "output_type": "stream",
          "name": "stderr",
          "text": [
            "Epochs:  53%|█████▎    | 106/200 [00:11<00:05, 16.22it/s]"
          ]
        },
        {
          "output_type": "stream",
          "name": "stdout",
          "text": [
            "epoch:  104  loss:  901.1638641357422\n",
            "epoch:  105  loss:  915.818603515625\n",
            "epoch:  106  loss:  940.4492645263672\n",
            "epoch:  107  loss:  932.0317993164062\n"
          ]
        },
        {
          "output_type": "stream",
          "name": "stderr",
          "text": [
            "Epochs:  55%|█████▌    | 110/200 [00:11<00:05, 15.98it/s]"
          ]
        },
        {
          "output_type": "stream",
          "name": "stdout",
          "text": [
            "epoch:  108  loss:  900.9303436279297\n",
            "epoch:  109  loss:  904.0175476074219\n",
            "epoch:  110  loss:  901.6498413085938\n",
            "epoch:  111  loss:  911.2317352294922\n"
          ]
        },
        {
          "output_type": "stream",
          "name": "stderr",
          "text": [
            "Epochs:  57%|█████▋    | 114/200 [00:12<00:05, 16.07it/s]"
          ]
        },
        {
          "output_type": "stream",
          "name": "stdout",
          "text": [
            "epoch:  112  loss:  925.4723663330078\n",
            "epoch:  113  loss:  905.1594696044922\n",
            "epoch:  114  loss:  920.6211853027344\n",
            "epoch:  115  loss:  886.5268402099609\n"
          ]
        },
        {
          "output_type": "stream",
          "name": "stderr",
          "text": [
            "Epochs:  59%|█████▉    | 118/200 [00:12<00:05, 16.18it/s]"
          ]
        },
        {
          "output_type": "stream",
          "name": "stdout",
          "text": [
            "epoch:  116  loss:  887.5525665283203\n",
            "epoch:  117  loss:  897.1529083251953\n",
            "epoch:  118  loss:  912.9183959960938\n",
            "epoch:  119  loss:  916.1410369873047\n"
          ]
        },
        {
          "output_type": "stream",
          "name": "stderr",
          "text": [
            "Epochs:  61%|██████    | 122/200 [00:12<00:04, 16.25it/s]"
          ]
        },
        {
          "output_type": "stream",
          "name": "stdout",
          "text": [
            "epoch:  120  loss:  888.8165893554688\n",
            "epoch:  121  loss:  881.772705078125\n",
            "epoch:  122  loss:  866.5989990234375\n",
            "epoch:  123  loss:  871.5459594726562\n"
          ]
        },
        {
          "output_type": "stream",
          "name": "stderr",
          "text": [
            "Epochs:  63%|██████▎   | 126/200 [00:12<00:04, 16.07it/s]"
          ]
        },
        {
          "output_type": "stream",
          "name": "stdout",
          "text": [
            "epoch:  124  loss:  875.2909088134766\n",
            "epoch:  125  loss:  935.5361785888672\n",
            "epoch:  126  loss:  891.5309295654297\n",
            "epoch:  127  loss:  872.5652008056641\n"
          ]
        },
        {
          "output_type": "stream",
          "name": "stderr",
          "text": [
            "Epochs:  65%|██████▌   | 130/200 [00:13<00:04, 16.35it/s]"
          ]
        },
        {
          "output_type": "stream",
          "name": "stdout",
          "text": [
            "epoch:  128  loss:  909.5804901123047\n",
            "epoch:  129  loss:  885.7877807617188\n",
            "epoch:  130  loss:  885.4795989990234\n",
            "epoch:  131  loss:  873.7373809814453\n"
          ]
        },
        {
          "output_type": "stream",
          "name": "stderr",
          "text": [
            "Epochs:  67%|██████▋   | 134/200 [00:13<00:04, 16.06it/s]"
          ]
        },
        {
          "output_type": "stream",
          "name": "stdout",
          "text": [
            "epoch:  132  loss:  861.1360015869141\n",
            "epoch:  133  loss:  884.6602478027344\n",
            "epoch:  134  loss:  876.1775665283203\n",
            "epoch:  135  loss:  870.1233062744141\n"
          ]
        },
        {
          "output_type": "stream",
          "name": "stderr",
          "text": [
            "Epochs:  69%|██████▉   | 138/200 [00:13<00:03, 15.75it/s]"
          ]
        },
        {
          "output_type": "stream",
          "name": "stdout",
          "text": [
            "epoch:  136  loss:  881.5296478271484\n",
            "epoch:  137  loss:  907.93359375\n",
            "epoch:  138  loss:  892.025146484375\n",
            "epoch:  139  loss:  875.6724700927734\n"
          ]
        },
        {
          "output_type": "stream",
          "name": "stderr",
          "text": [
            "Epochs:  71%|███████   | 142/200 [00:13<00:03, 15.53it/s]"
          ]
        },
        {
          "output_type": "stream",
          "name": "stdout",
          "text": [
            "epoch:  140  loss:  880.5223846435547\n",
            "epoch:  141  loss:  849.9345092773438\n",
            "epoch:  142  loss:  902.4028167724609\n",
            "epoch:  143  loss:  888.2499694824219\n"
          ]
        },
        {
          "output_type": "stream",
          "name": "stderr",
          "text": [
            "Epochs:  73%|███████▎  | 146/200 [00:14<00:03, 15.68it/s]"
          ]
        },
        {
          "output_type": "stream",
          "name": "stdout",
          "text": [
            "epoch:  144  loss:  867.1259918212891\n",
            "epoch:  145  loss:  909.2706451416016\n",
            "epoch:  146  loss:  851.2326507568359\n",
            "epoch:  147  loss:  884.7439880371094\n"
          ]
        },
        {
          "output_type": "stream",
          "name": "stderr",
          "text": [
            "Epochs:  75%|███████▌  | 150/200 [00:14<00:03, 15.58it/s]"
          ]
        },
        {
          "output_type": "stream",
          "name": "stdout",
          "text": [
            "epoch:  148  loss:  880.3315734863281\n",
            "epoch:  149  loss:  859.1177978515625\n",
            "epoch:  150  loss:  877.3316040039062\n",
            "epoch:  151  loss:  871.6018981933594\n"
          ]
        },
        {
          "output_type": "stream",
          "name": "stderr",
          "text": [
            "Epochs:  77%|███████▋  | 154/200 [00:14<00:02, 15.61it/s]"
          ]
        },
        {
          "output_type": "stream",
          "name": "stdout",
          "text": [
            "epoch:  152  loss:  902.4567108154297\n",
            "epoch:  153  loss:  851.2731628417969\n",
            "epoch:  154  loss:  845.0798492431641\n",
            "epoch:  155  loss:  842.1654968261719\n"
          ]
        },
        {
          "output_type": "stream",
          "name": "stderr",
          "text": [
            "Epochs:  79%|███████▉  | 158/200 [00:14<00:02, 15.39it/s]"
          ]
        },
        {
          "output_type": "stream",
          "name": "stdout",
          "text": [
            "epoch:  156  loss:  881.9335021972656\n",
            "epoch:  157  loss:  865.8279876708984\n",
            "epoch:  158  loss:  846.5517425537109\n",
            "epoch:  159  loss:  910.4742431640625\n"
          ]
        },
        {
          "output_type": "stream",
          "name": "stderr",
          "text": [
            "Epochs:  81%|████████  | 162/200 [00:15<00:02, 15.77it/s]"
          ]
        },
        {
          "output_type": "stream",
          "name": "stdout",
          "text": [
            "epoch:  160  loss:  880.7051391601562\n",
            "epoch:  161  loss:  851.4857788085938\n",
            "epoch:  162  loss:  838.5465087890625\n",
            "epoch:  163  loss:  854.9694671630859\n"
          ]
        },
        {
          "output_type": "stream",
          "name": "stderr",
          "text": [
            "Epochs:  83%|████████▎ | 166/200 [00:15<00:02, 15.64it/s]"
          ]
        },
        {
          "output_type": "stream",
          "name": "stdout",
          "text": [
            "epoch:  164  loss:  871.688720703125\n",
            "epoch:  165  loss:  855.6508483886719\n",
            "epoch:  166  loss:  860.6631927490234\n",
            "epoch: "
          ]
        },
        {
          "output_type": "stream",
          "name": "stderr",
          "text": [
            "Epochs:  85%|████████▌ | 170/200 [00:15<00:01, 15.86it/s]"
          ]
        },
        {
          "output_type": "stream",
          "name": "stdout",
          "text": [
            " 167  loss:  859.8633728027344\n",
            "epoch:  168  loss:  870.8346099853516\n",
            "epoch:  169  loss:  882.7185974121094\n",
            "epoch:  170  loss:  857.1836853027344\n"
          ]
        },
        {
          "output_type": "stream",
          "name": "stderr",
          "text": [
            "Epochs:  87%|████████▋ | 174/200 [00:15<00:01, 15.61it/s]"
          ]
        },
        {
          "output_type": "stream",
          "name": "stdout",
          "text": [
            "epoch:  171  loss:  853.0437164306641\n",
            "epoch:  172  loss:  820.3439483642578\n",
            "epoch:  173  loss:  870.7980346679688\n",
            "epoch:  174  loss:  879.9705352783203\n"
          ]
        },
        {
          "output_type": "stream",
          "name": "stderr",
          "text": [
            "Epochs:  89%|████████▉ | 178/200 [00:16<00:01, 16.04it/s]"
          ]
        },
        {
          "output_type": "stream",
          "name": "stdout",
          "text": [
            "epoch:  175  loss:  893.5269775390625\n",
            "epoch:  176  loss:  882.1417999267578\n",
            "epoch:  177  loss:  877.3469085693359\n",
            "epoch:  178  loss:  826.3318634033203\n"
          ]
        },
        {
          "output_type": "stream",
          "name": "stderr",
          "text": [
            "Epochs:  91%|█████████ | 182/200 [00:16<00:01, 16.12it/s]"
          ]
        },
        {
          "output_type": "stream",
          "name": "stdout",
          "text": [
            "epoch:  179  loss:  863.8855438232422\n",
            "epoch:  180  loss:  853.0677795410156\n",
            "epoch:  181  loss:  845.2187652587891\n",
            "epoch:  182  loss:  866.5494995117188\n"
          ]
        },
        {
          "output_type": "stream",
          "name": "stderr",
          "text": [
            "Epochs:  93%|█████████▎| 186/200 [00:16<00:00, 16.30it/s]"
          ]
        },
        {
          "output_type": "stream",
          "name": "stdout",
          "text": [
            "epoch:  183  loss:  859.7247772216797\n",
            "epoch:  184  loss:  843.0488586425781\n",
            "epoch:  185  loss:  832.9476776123047\n",
            "epoch:  186  loss:  836.9181518554688\n"
          ]
        },
        {
          "output_type": "stream",
          "name": "stderr",
          "text": [
            "Epochs:  95%|█████████▌| 190/200 [00:16<00:00, 16.44it/s]"
          ]
        },
        {
          "output_type": "stream",
          "name": "stdout",
          "text": [
            "epoch:  187  loss:  858.6759948730469\n",
            "epoch:  188  loss:  853.1402282714844\n",
            "epoch:  189  loss:  853.1087341308594\n",
            "epoch:  190  loss:  848.4010314941406\n"
          ]
        },
        {
          "output_type": "stream",
          "name": "stderr",
          "text": [
            "Epochs:  97%|█████████▋| 194/200 [00:17<00:00, 15.80it/s]"
          ]
        },
        {
          "output_type": "stream",
          "name": "stdout",
          "text": [
            "epoch:  191  loss:  813.4095458984375\n",
            "epoch:  192  loss:  844.9398345947266\n",
            "epoch:  193  loss:  861.3139801025391\n",
            "epoch:  194  loss:  867.9522247314453\n"
          ]
        },
        {
          "output_type": "stream",
          "name": "stderr",
          "text": [
            "Epochs:  99%|█████████▉| 198/200 [00:17<00:00, 15.88it/s]"
          ]
        },
        {
          "output_type": "stream",
          "name": "stdout",
          "text": [
            "epoch:  195  loss:  841.2416229248047\n",
            "epoch:  196  loss:  848.6564178466797\n",
            "epoch:  197  loss:  833.8301391601562\n",
            "epoch:  198  loss:  826.2361602783203\n"
          ]
        },
        {
          "output_type": "stream",
          "name": "stderr",
          "text": [
            "Epochs: 100%|██████████| 200/200 [00:17<00:00, 11.46it/s]\n"
          ]
        },
        {
          "output_type": "stream",
          "name": "stdout",
          "text": [
            "epoch:  199  loss:  822.6763000488281\n",
            "epoch:  200  loss:  858.8649139404297\n",
            "Time: 17.06182399999999\n"
          ]
        }
      ]
    },
    {
      "cell_type": "code",
      "source": [
        "node2vec = {}\n",
        "f = open('temp/embed.txt', 'rb')\n",
        "for i, j in enumerate(f):\n",
        "    if j.decode() != '\\n':\n",
        "        node2vec[i] = list(map(float, j.strip().decode().split(' ')))\n",
        "f1 = open(os.path.join('temp/test_graph.txt'), 'rb')\n",
        "edges = [list(map(int, i.strip().decode().split('\\t'))) for i in f1]\n",
        "nodes = list(set([i for j in edges for i in j]))\n",
        "a = 0\n",
        "b = 0\n",
        "result = []\n",
        "for i, j in edges:\n",
        "    if i in node2vec.keys() and j in node2vec.keys():\n",
        "        dot1 = np.dot(node2vec[i], node2vec[j])\n",
        "        random_node = random.sample(nodes, 1)[0]\n",
        "        while random_node == j or random_node not in node2vec.keys():\n",
        "            random_node = random.sample(nodes, 1)[0]\n",
        "        dot2 = np.dot(node2vec[i], node2vec[random_node])\n",
        "        result.append(np.asarray([dot1,dot2]))\n",
        "        if dot1 > dot2:\n",
        "            a += 1\n",
        "        elif dot1 == dot2:\n",
        "            a += 0.5\n",
        "        b += 1\n",
        "\n",
        "print(\"Auc value:\", float(a) / b)"
      ],
      "metadata": {
        "id": "NZsQv5KyY83v",
        "colab": {
          "base_uri": "https://localhost:8080/"
        },
        "outputId": "f603ae9c-c3dc-4f20-a2bd-95ec9ce24c07"
      },
      "execution_count": 105,
      "outputs": [
        {
          "output_type": "stream",
          "name": "stdout",
          "text": [
            "Auc value: 0.8387096774193549\n"
          ]
        }
      ]
    }
  ]
}