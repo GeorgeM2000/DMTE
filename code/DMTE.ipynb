{
 "cells": [
  {
   "cell_type": "markdown",
   "metadata": {
    "colab_type": "text",
    "id": "view-in-github"
   },
   "source": [
    "<a href=\"https://colab.research.google.com/github/GeorgeM2000/DMTE/blob/master/code/DMTE.ipynb\" target=\"_parent\"><img src=\"https://colab.research.google.com/assets/colab-badge.svg\" alt=\"Open In Colab\"/></a>"
   ]
  },
  {
   "cell_type": "markdown",
   "metadata": {
    "id": "Lm_6DHW8WU30"
   },
   "source": [
    "# ***Libraries & Tools***"
   ]
  },
  {
   "cell_type": "code",
   "execution_count": 1,
   "metadata": {
    "id": "wDqukMh63rB7"
   },
   "outputs": [],
   "source": [
    "import argparse\n",
    "import os\n",
    "import random\n",
    "import numpy as np\n",
    "import tensorflow as tf\n",
    "from math import pow\n",
    "from datetime import datetime\n",
    "from pathlib import Path\n",
    "import shutil\n",
    "from tqdm import tqdm\n",
    "import zipfile\n",
    "from collections import defaultdict\n",
    "from sklearn.preprocessing import normalize"
   ]
  },
  {
   "cell_type": "code",
   "execution_count": null,
   "metadata": {
    "id": "Cs_tnKOwef_Q"
   },
   "outputs": [],
   "source": [
    "!pwd"
   ]
  },
  {
   "cell_type": "markdown",
   "metadata": {
    "id": "Rt0e5GPf8RBx"
   },
   "source": [
    "# ***Global Variables***"
   ]
  },
  {
   "cell_type": "code",
   "execution_count": 2,
   "metadata": {
    "id": "0iTSFdmS8THg"
   },
   "outputs": [],
   "source": [
    "MAX_LEN=300\n",
    "neg_table_size=1000000\n",
    "NEG_SAMPLE_POWER=0.75\n",
    "batch_size=64\n",
    "num_epoch=200 # Default: 200\n",
    "embed_size=200\n",
    "word_embed_size=200\n",
    "lr=1e-3"
   ]
  },
  {
   "cell_type": "code",
   "execution_count": null,
   "metadata": {
    "id": "4Y-INwI4KbIs"
   },
   "outputs": [],
   "source": [
    "datasetName = \"cora\"\n",
    "dataTextFile = \"data.txt\"\n",
    "ratio = 0.15\n",
    "\n",
    "# Original parameters \n",
    "alpha = 0.2\n",
    "beta = 0.05\n",
    "\n",
    "# Additional parameters \n",
    "gamma = 0.0\n",
    "delta = 0.0"
   ]
  },
  {
   "cell_type": "markdown",
   "metadata": {},
   "source": [
    "Count the words of the smallest and largest abstract"
   ]
  },
  {
   "cell_type": "code",
   "execution_count": null,
   "metadata": {
    "colab": {
     "base_uri": "https://localhost:8080/"
    },
    "id": "0xEhbCPl7UQY",
    "outputId": "cb348bd4-2dac-4669-932a-39558ba0ca57"
   },
   "outputs": [
    {
     "name": "stdout",
     "output_type": "stream",
     "text": [
      "Max word count: 473\n",
      "Min word count: 10\n"
     ]
    }
   ],
   "source": [
    "max_word_count = 0\n",
    "min_word_count = float('inf')\n",
    "\n",
    "with open(f'/content/datasets/{datasetName}/{dataTextFile}', 'r') as file:\n",
    "    for line in file:\n",
    "        word_count = len(line.split())\n",
    "\n",
    "        if word_count > max_word_count:\n",
    "            max_word_count = word_count\n",
    "\n",
    "        if word_count < min_word_count:\n",
    "            min_word_count = word_count\n",
    "\n",
    "print(\"Max word count:\", max_word_count)\n",
    "print(\"Min word count:\", min_word_count)\n",
    "\n",
    "\n",
    "MAX_LEN = max_word_count + 1"
   ]
  },
  {
   "cell_type": "markdown",
   "metadata": {},
   "source": [
    "Run the cell below if the data file with the astracts is too large and needs extracting "
   ]
  },
  {
   "cell_type": "code",
   "execution_count": null,
   "metadata": {
    "colab": {
     "base_uri": "https://localhost:8080/"
    },
    "id": "sdXCdfP_-hHD",
    "outputId": "8362d0d7-ea0c-4ce5-fde7-d5c44a838a94"
   },
   "outputs": [
    {
     "name": "stdout",
     "output_type": "stream",
     "text": [
      "Extraction complete!\n"
     ]
    }
   ],
   "source": [
    "zip_file_path = '/content/data.zip'\n",
    "extract_to = f'/content/datasets/{datasetName}'\n",
    "\n",
    "# Open and extract the zip file\n",
    "with zipfile.ZipFile(zip_file_path, 'r') as zip_ref:\n",
    "    zip_ref.extractall(extract_to)\n",
    "\n",
    "print(\"Extraction complete!\")"
   ]
  },
  {
   "cell_type": "code",
   "execution_count": 4,
   "metadata": {
    "id": "vcWCLJQxVIlg"
   },
   "outputs": [],
   "source": [
    "def sub_Mat(P, node):\n",
    "\n",
    "    sub_P = np.zeros((len(node),len(node)))\n",
    "    for i in range(len(node)):\n",
    "        for j in range(len(node)):\n",
    "            sub_P[i,j] = P[node[i],node[j]]\n",
    "\n",
    "    return sub_P"
   ]
  },
  {
   "cell_type": "markdown",
   "metadata": {
    "id": "UwNH2N0iVJ1Y"
   },
   "source": [
    "# ***DataSet***"
   ]
  },
  {
   "cell_type": "code",
   "execution_count": null,
   "metadata": {
    "id": "-KcJkcNBs_G3"
   },
   "outputs": [],
   "source": [
    "class dataSet:\n",
    "    def __init__(self, text_path, graph_path, labels_path=None):\n",
    "\n",
    "        #text_file, graph_file, labels_file = self.load(text_path, graph_path, labels_path)\n",
    "        text_file, graph_file = self.load(text_path, graph_path)\n",
    "\n",
    "        self.edges = self.load_edges(graph_file)\n",
    "\n",
    "        #self.labels = self.load_labels(labels_file)\n",
    "\n",
    "        self.text, self.num_vocab, self.num_nodes = self.load_text(text_file)\n",
    "\n",
    "        self.nodes = range(0, self.num_nodes)\n",
    "\n",
    "        self.negative_table = InitNegTable(self.edges)\n",
    "\n",
    "        self.P = self.P_matrix(self.edges, self.num_nodes)\n",
    "\n",
    "    \"\"\"\n",
    "    def load(self, text_path, graph_path, labels_path):\n",
    "        text_file = open(text_path, 'rb').readlines()\n",
    "        graph_file = open(graph_path, 'rb').readlines()\n",
    "        labels_file = open(labels_path, 'rb').readlines()\n",
    "\n",
    "        return text_file, graph_file, label_file\n",
    "    \"\"\"\n",
    "\n",
    "    def load(self, text_path, graph_path):\n",
    "        text_file = open(text_path, 'rb').readlines()\n",
    "        graph_file = open(graph_path, 'rb').readlines()\n",
    "\n",
    "        return text_file, graph_file\n",
    "\n",
    "    def load_edges(self, graph_file):\n",
    "        edges = []\n",
    "        for i in graph_file:\n",
    "            if np.random.uniform(0.0, 1.0) <= ratio:\n",
    "                edges.append(list(map(int, i.strip().decode().split('\\t'))))\n",
    "\n",
    "        return edges\n",
    "\n",
    "    def load_labels(self, labels_file):\n",
    "      labels = []\n",
    "      for i in labels_file:\n",
    "        labels.append(list(map(int, i.strip().decode().split(','))))\n",
    "\n",
    "      return labels\n",
    "\n",
    "    def adj_list(self, edges):\n",
    "      node1, node2 = zip(*edges)\n",
    "\n",
    "      # Create adjacency list\n",
    "      adj_list = defaultdict(list)\n",
    "      for n1, n2 in edges:\n",
    "          adj_list[n1].append(n2)\n",
    "          adj_list[n2].append(n1)\n",
    "\n",
    "      return dict(adj_list)\n",
    "\n",
    "    def load_text(self, text_file):\n",
    "        \"\"\"\n",
    "        Adapting with adapt(text_data):\n",
    "\n",
    "        vectorize_layer.adapt(text_data) analyzes text_data, builds a vocabulary, and assigns a unique integer ID to each word based on its frequency (most frequent words get lower IDs).\n",
    "        Transforming with vectorize_layer(text_data):\n",
    "\n",
    "        This maps each word in text_data to its corresponding integer token ID, producing a 2D array where each row represents a sequence of token IDs for a given input line, padded or truncated to max_len.\n",
    "        \"\"\"\n",
    "        vectorize_layer = tf.keras.layers.TextVectorization(\n",
    "            max_tokens=None,  # Set a limit if needed\n",
    "            output_mode='int',\n",
    "            output_sequence_length=MAX_LEN\n",
    "        )\n",
    "\n",
    "        text_data = [line.strip() for line in text_file]\n",
    "\n",
    "        vectorize_layer.adapt(text_data)\n",
    "\n",
    "        text = vectorize_layer(text_data).numpy()\n",
    "\n",
    "        num_vocab = len(vectorize_layer.get_vocabulary())\n",
    "        print(f'Vocabulary: {num_vocab}')\n",
    "        num_nodes = len(text)\n",
    "\n",
    "        return text, num_vocab, num_nodes\n",
    "\n",
    "    def negative_sample(self, edges):\n",
    "        # edges is the sample_edges in self.generate_batches()\n",
    "        node1, node2 = zip(*edges)\n",
    "        sample_edges = []\n",
    "\n",
    "        # The negative table contains edges that don not exist\n",
    "        func = lambda: self.negative_table[random.randint(0, neg_table_size - 1)] # Pick a random node from the negative table\n",
    "\n",
    "        # For each edge...\n",
    "        for i in range(len(edges)):\n",
    "            neg_node = func() # Pick a negative node\n",
    "\n",
    "            # If the negative node is identical to the first and second node in the current edge...\n",
    "            while node1[i] == neg_node or node2[i] == neg_node:\n",
    "                neg_node = func() # Pick another negative node until the neg node is different than the first and second node in the current edge\n",
    "\n",
    "            # Create a new type of edge that has an additional node, the negative node\n",
    "            sample_edges.append([node1[i], node2[i], neg_node])\n",
    "\n",
    "        return sample_edges\n",
    "\n",
    "    def generate_batches(self, mode=None):\n",
    "\n",
    "        num_batch = len(self.edges) // batch_size\n",
    "        edges = self.edges\n",
    "        if mode == 'add':\n",
    "            num_batch += 1\n",
    "            edges.extend(edges[:(batch_size - len(self.edges) % batch_size)])\n",
    "        if mode != 'add':\n",
    "            random.shuffle(edges)\n",
    "        sample_edges = edges[:num_batch * batch_size]\n",
    "\n",
    "        # For each edge in \"sample_edges\", add a negative edge\n",
    "        sample_edges = self.negative_sample(sample_edges)\n",
    "\n",
    "        # Create batches of edges\n",
    "\n",
    "        \"\"\"\n",
    "        The first batch range is 0 -- batch_size - 1\n",
    "        The second batch range is batch_size -- 2 * batch_size - 1\n",
    "        The third batch range is 2 * batch_size -- 3* batch_size - 1 and so on\n",
    "        \"\"\"\n",
    "        batches = []\n",
    "        for i in range(num_batch):\n",
    "            batches.append(sample_edges[i * batch_size:(i + 1) * batch_size])\n",
    "\n",
    "        return batches\n",
    "\n",
    "    def nodes_batches(self, mode=None):\n",
    "\n",
    "        num_batch = len(self.nodes) // batch_size\n",
    "        nodes = self.nodes\n",
    "        if mode == 'add':\n",
    "            num_batch += 1\n",
    "            nodes.extend(nodes[:(batch_size - len(self.nodes) % batch_size)])\n",
    "            random.shuffle(nodes)\n",
    "        if mode != 'add':\n",
    "            random.shuffle(nodes)\n",
    "        sample_nodes = nodes[:num_batch * batch_size]\n",
    "\n",
    "        batches = []\n",
    "        for i in range(num_batch):\n",
    "            batches.append(sample_nodes[i * batch_size:(i + 1) * batch_size])\n",
    "        return batches\n",
    "\n",
    "    def P_matrix(self, edges, num_nodes):\n",
    "        # Take all the edges\n",
    "        a_list,b_list=zip(*edges)\n",
    "        a_list=list(a_list) # This list contains the first nodes in all edges\n",
    "        b_list=list(b_list) # This list contains the second nodes in all edges\n",
    "\n",
    "        P = np.zeros((num_nodes,num_nodes))\n",
    "\n",
    "        for i in range(len(a_list)):\n",
    "            P[a_list[i],b_list[i]]=1 # The prob of transitioning from \"a_list[i]\" to \"b_list[i]\". Initially it's 1 for unweighted graphs\n",
    "            P[b_list[i],a_list[i]]=1 # The prob of transitioning from \"b_list[i]\" to \"a_list[i]\". Initially it's 1 for unweighted graphs\n",
    "\n",
    "        P = normalize(P, axis=1, norm='l1') # We normalize P\n",
    "\n",
    "        return P"
   ]
  },
  {
   "cell_type": "markdown",
   "metadata": {
    "id": "-AV9wwI_7NSC"
   },
   "source": [
    "# ***DMTE***"
   ]
  },
  {
   "cell_type": "code",
   "execution_count": 75,
   "metadata": {
    "id": "S23Tcvj9tQnb"
   },
   "outputs": [],
   "source": [
    "class Model:\n",
    "    def __init__(self, vocab_size, num_nodes, alpha, beta, num_labels=None):\n",
    "        # '''hyperparameter'''\n",
    "        with tf.name_scope('read_inputs') as scope:\n",
    "            self.Text_a = tf.compat.v1.placeholder(tf.int32, [batch_size, MAX_LEN], name='Ta')\n",
    "            self.Text_b = tf.compat.v1.placeholder(tf.int32, [batch_size, MAX_LEN], name='Tb')\n",
    "            self.Text_neg = tf.compat.v1.placeholder(tf.int32, [batch_size, MAX_LEN], name='Tneg')\n",
    "            self.Node_a = tf.compat.v1.placeholder(tf.int32, [batch_size], name='n1')\n",
    "            self.Node_b = tf.compat.v1.placeholder(tf.int32, [batch_size], name='n2')\n",
    "            self.Node_neg = tf.compat.v1.placeholder(tf.int32, [batch_size], name='n3')\n",
    "            self.P_a = tf.compat.v1.placeholder(tf.float32, [batch_size, batch_size], name='Pa')\n",
    "            self.P_b = tf.compat.v1.placeholder(tf.float32, [batch_size, batch_size], name='Pb')\n",
    "            self.P_neg = tf.compat.v1.placeholder(tf.float32, [batch_size, batch_size], name='Pneg')\n",
    "            #self.labels = tf.compat.v1.placeholder(tf.int32, [batch_size, num_labels], name='L')\n",
    "\n",
    "        with tf.name_scope('initialize_embedding') as scope:\n",
    "            self.text_embed = tf.Variable(tf.random.truncated_normal([vocab_size, word_embed_size], stddev=0.3))\n",
    "            self.node_embed = tf.Variable(tf.random.truncated_normal([num_nodes, embed_size // 2], stddev=0.3))\n",
    "            self.node_embed = tf.clip_by_norm(self.node_embed, clip_norm=1, axes=1)\n",
    "\n",
    "        with tf.name_scope('lookup_embeddings') as scope:\n",
    "            self.TA = tf.nn.embedding_lookup(self.text_embed, self.Text_a)\n",
    "            self.T_A = tf.expand_dims(self.TA, -1)\n",
    "\n",
    "            self.TB = tf.nn.embedding_lookup(self.text_embed, self.Text_b)\n",
    "            self.T_B = tf.expand_dims(self.TB, -1)\n",
    "\n",
    "            self.TNEG = tf.nn.embedding_lookup(self.text_embed, self.Text_neg)\n",
    "            self.T_NEG = tf.expand_dims(self.TNEG, -1)\n",
    "\n",
    "            self.N_A = tf.nn.embedding_lookup(self.node_embed, self.Node_a)\n",
    "            self.N_B = tf.nn.embedding_lookup(self.node_embed, self.Node_b)\n",
    "            self.N_NEG = tf.nn.embedding_lookup(self.node_embed, self.Node_neg)\n",
    "\n",
    "        self.alpha = alpha\n",
    "        self.beta = beta\n",
    "        self.convA, self.convB, self.convNeg = self.conv()\n",
    "        self.loss = self.compute_loss()\n",
    "\n",
    "    def conv(self):\n",
    "\n",
    "        W0 = tf.Variable(tf.random.truncated_normal([word_embed_size, embed_size // 2], stddev=0.3))\n",
    "        W1 = tf.Variable(tf.random.truncated_normal([word_embed_size, embed_size // 2], stddev=0.3))\n",
    "        W2 = tf.Variable(tf.random.truncated_normal([word_embed_size, embed_size // 2], stddev=0.3))\n",
    "        #W3 = tf.Variable(tf.random.truncated_normal([word_embed_size, embed_size // 2], stddev=0.3))\n",
    "        #W4 = tf.Variable(tf.random.truncated_normal([word_embed_size, embed_size // 2], stddev=0.3))\n",
    "\n",
    "        mA = tf.reduce_mean(self.T_A, axis=1, keepdims=True)\n",
    "        mB = tf.reduce_mean(self.T_B, axis=1, keepdims=True)\n",
    "        mNEG = tf.reduce_mean(self.T_NEG, axis=1, keepdims=True)\n",
    "\n",
    "        convA = tf.tanh(tf.squeeze(mA))\n",
    "        convB = tf.tanh(tf.squeeze(mB))\n",
    "        convNEG = tf.tanh(tf.squeeze(mNEG))\n",
    "\n",
    "        attA = (tf.matmul(convA, W0) +\n",
    "                self.alpha * tf.matmul(tf.matmul(self.P_a, convA), W1) +\n",
    "                self.beta * tf.matmul(tf.matmul(tf.math.square(self.P_a), convA), W2))\n",
    "                #gamma * tf.matmul(tf.matmul(tf.math.pow(self.P_a, 3), convA), W3) +\n",
    "                #delta * tf.matmul(tf.matmul(tf.math.pow(self.P_a, 4), convA), W4))\n",
    "\n",
    "        attB = (tf.matmul(convB, W0) +\n",
    "                self.alpha * tf.matmul(tf.matmul(self.P_b, convB), W1) +\n",
    "                self.beta * tf.matmul(tf.matmul(tf.math.square(self.P_b), convB), W2))\n",
    "                #gamma * tf.matmul(tf.matmul(tf.math.pow(self.P_b, 3), convB), W3) +\n",
    "                #delta * tf.matmul(tf.matmul(tf.math.pow(self.P_b, 4), convB), W4))\n",
    "\n",
    "\n",
    "        attNEG = (tf.matmul(convNEG, W0) +\n",
    "                  self.alpha * tf.matmul(tf.matmul(self.P_a, convNEG), W1) +\n",
    "                  self.beta * tf.matmul(tf.matmul(tf.math.square(self.P_a), convNEG), W2))\n",
    "                  #gamma * tf.matmul(tf.matmul(tf.math.pow(self.P_a, 3), convNEG), W3) +\n",
    "                  #delta * tf.matmul(tf.matmul(tf.math.pow(self.P_a, 4), convNEG), W4))\n",
    "\n",
    "        return attA, attB, attNEG\n",
    "\n",
    "    def compute_loss(self):\n",
    "\n",
    "        # Loss functions for:\n",
    "\n",
    "\n",
    "        # Text-Text\n",
    "        p1 = tf.math.log(tf.nn.sigmoid(tf.reduce_sum(tf.multiply(self.convA, self.convB), 1)) + 0.001)\n",
    "\n",
    "        p2 = tf.math.log(tf.nn.sigmoid(-tf.reduce_sum(tf.multiply(self.convA, self.convNeg), 1)) + 0.001)\n",
    "\n",
    "        p11 = tf.math.log(tf.nn.sigmoid(tf.reduce_sum(tf.multiply(self.convB, self.convA), 1)) + 0.001)\n",
    "\n",
    "        p12 = tf.math.log(tf.nn.sigmoid(-tf.reduce_sum(tf.multiply(self.convB, self.convNeg), 1)) + 0.001)\n",
    "\n",
    "\n",
    "\n",
    "        # Node-Node\n",
    "        p3 = tf.math.log(tf.nn.sigmoid(tf.reduce_sum(tf.multiply(self.N_A +\n",
    "                                                                 self.alpha * tf.matmul(self.P_a, self.N_A) +\n",
    "                                                                 self.beta * tf.matmul(tf.math.square(self.P_a), self.N_A), self.N_B), 1)) + 0.001)\n",
    "                                                                 #gamma * tf.matmul(tf.math.pow(self.P_a, 3), self.N_A) +\n",
    "                                                                 #delta * tf.matmul(tf.math.pow(self.P_a, 4), self.N_A), self.N_B), 1)) + 0.001)\n",
    "\n",
    "        p4 = tf.math.log(tf.nn.sigmoid(-tf.reduce_sum(tf.multiply(self.N_A +\n",
    "                                                                  self.alpha * tf.matmul(self.P_a, self.N_A) +\n",
    "                                                                  self.beta * tf.matmul(tf.math.square(self.P_a), self.N_A), self.N_NEG), 1)) + 0.001)\n",
    "                                                                  #gamma * tf.matmul(tf.math.pow(self.P_a, 3), self.N_A) +\n",
    "                                                                  #delta * tf.matmul(tf.math.pow(self.P_a, 4), self.N_A), self.N_NEG), 1)) + 0.001)\n",
    "\n",
    "        p13 = tf.math.log(tf.nn.sigmoid(tf.reduce_sum(tf.multiply(self.N_B +\n",
    "                                                                  self.alpha * tf.matmul(self.P_b, self.N_B) +\n",
    "                                                                  self.beta * tf.matmul(tf.math.square(self.P_b), self.N_B), self.N_A), 1)) + 0.001)\n",
    "                                                                  #gamma * tf.matmul(tf.math.pow(self.P_b, 3), self.N_B) +\n",
    "                                                                  #delta * tf.matmul(tf.math.pow(self.P_b, 4), self.N_B), self.N_A), 1)) + 0.001)\n",
    "\n",
    "        p14 = tf.math.log(tf.nn.sigmoid(-tf.reduce_sum(tf.multiply(self.N_B +\n",
    "                                                                   self.alpha * tf.matmul(self.P_b, self.N_B) +\n",
    "                                                                   self.beta * tf.matmul(tf.math.square(self.P_b), self.N_B), self.N_NEG), 1)) + 0.001)\n",
    "                                                                   #gamma * tf.matmul(tf.math.pow(self.P_b, 3), self.N_B) +\n",
    "                                                                   #delta * tf.matmul(tf.math.pow(self.P_b, 4), self.N_B), self.N_NEG), 1)) + 0.001)\n",
    "\n",
    "\n",
    "\n",
    "\n",
    "        # Node-Text\n",
    "        p5 = tf.math.log(tf.nn.sigmoid(tf.reduce_sum(tf.multiply(self.N_A +\n",
    "                                                                 self.alpha * tf.matmul(self.P_a, self.N_A) +\n",
    "                                                                 self.beta * tf.matmul(tf.math.square(self.P_a), self.N_A), self.convB), 1)) + 0.001)\n",
    "                                                                 #gamma * tf.matmul(tf.math.pow(self.P_a, 3), self.N_A) +\n",
    "                                                                 #delta * tf.matmul(tf.math.pow(self.P_a, 4), self.N_A), self.convB), 1)) + 0.001)\n",
    "\n",
    "        p6 = tf.math.log(tf.nn.sigmoid(-tf.reduce_sum(tf.multiply(self.N_A +\n",
    "                                                                  self.alpha * tf.matmul(self.P_a, self.N_A) +\n",
    "                                                                  self.beta * tf.matmul(tf.math.square(self.P_a), self.N_A), self.convNeg), 1)) + 0.001)\n",
    "                                                                  #gamma * tf.matmul(tf.math.pow(self.P_a, 3), self.N_A) +\n",
    "                                                                  #delta * tf.matmul(tf.math.pow(self.P_a, 4), self.N_A), self.convNeg), 1)) + 0.001)\n",
    "\n",
    "        p15 = tf.math.log(tf.nn.sigmoid(tf.reduce_sum(tf.multiply(self.N_B +\n",
    "                                                                  self.alpha * tf.matmul(self.P_b, self.N_B) +\n",
    "                                                                  self.beta * tf.matmul(tf.math.square(self.P_b), self.N_B), self.convA), 1)) + 0.001)\n",
    "                                                                  #gamma * tf.matmul(tf.math.pow(self.P_b, 3), self.N_B) +\n",
    "                                                                  #delta * tf.matmul(tf.math.pow(self.P_b, 4), self.N_B), self.convA), 1)) + 0.001)\n",
    "\n",
    "        p16 = tf.math.log(tf.nn.sigmoid(-tf.reduce_sum(tf.multiply(self.N_B +\n",
    "                                                                   self.alpha * tf.matmul(self.P_b, self.N_B) +\n",
    "                                                                   self.beta * tf.matmul(tf.math.square(self.P_b), self.N_B), self.convNeg), 1)) + 0.001)\n",
    "                                                                   #gamma * tf.matmul(tf.math.pow(self.P_b, 3), self.N_B) +\n",
    "                                                                   #delta * tf.matmul(tf.math.pow(self.P_b, 4), self.N_B), self.convNeg), 1)) + 0.001)\n",
    "\n",
    "\n",
    "\n",
    "        # Text-Node\n",
    "        p7 = tf.math.log(tf.nn.sigmoid(tf.reduce_sum(tf.multiply(self.convA, self.N_B), 1)) + 0.001)\n",
    "\n",
    "        p8 = tf.math.log(tf.nn.sigmoid(-tf.reduce_sum(tf.multiply(self.convA, self.N_NEG), 1)) + 0.001)\n",
    "\n",
    "        p17 = tf.math.log(tf.nn.sigmoid(tf.reduce_sum(tf.multiply(self.convB, self.N_A), 1)) + 0.001)\n",
    "\n",
    "        p18 = tf.math.log(tf.nn.sigmoid(-tf.reduce_sum(tf.multiply(self.convB, self.N_NEG), 1)) + 0.001)\n",
    "\n",
    "        rho1 = 1.0\n",
    "        rho2 = 1.0\n",
    "        rho3 = 0.5\n",
    "        temp_loss = rho1 * (p1 + p2 + p11 + p12) + rho2 * (p3 + p4 + p13 + p14) + rho3 * (p5 + p6 + p15 + p16) + rho3 * (p7 + p8 + p17 + p18)\n",
    "        loss = -tf.reduce_sum(temp_loss)\n",
    "        return loss"
   ]
  },
  {
   "cell_type": "markdown",
   "metadata": {
    "id": "2Vt_wvryq0oh"
   },
   "source": [
    "# ***Negative Sample***"
   ]
  },
  {
   "cell_type": "code",
   "execution_count": 8,
   "metadata": {
    "id": "UdwgdktTq504"
   },
   "outputs": [],
   "source": [
    "def InitNegTable(edges):\n",
    "    a_list, b_list = zip(*edges)\n",
    "    a_list = list(a_list)\n",
    "    b_list = list(b_list)\n",
    "    node = a_list\n",
    "    node.extend(b_list)\n",
    "\n",
    "    node_degree = {}\n",
    "    for i in node:\n",
    "        if i in node_degree:\n",
    "            node_degree[i] += 1\n",
    "        else:\n",
    "            node_degree[i] = 1\n",
    "    sum_degree = 0\n",
    "    for i in node_degree.values():\n",
    "        sum_degree += pow(i, 0.75)\n",
    "\n",
    "    por = 0\n",
    "    cur_sum = 0\n",
    "    vid = -1\n",
    "    neg_table = []\n",
    "    degree_list = list(node_degree.values())\n",
    "    node_id = list(node_degree.keys())\n",
    "    for i in range(neg_table_size):\n",
    "        if ((i + 1) / float(neg_table_size)) > por:\n",
    "            cur_sum += pow(degree_list[vid + 1], NEG_SAMPLE_POWER)\n",
    "            por = cur_sum / sum_degree\n",
    "            vid += 1\n",
    "        neg_table.append(node_id[vid])\n",
    "    print(f'Neg. table size: {len(neg_table)}')\n",
    "    return neg_table\n"
   ]
  },
  {
   "cell_type": "markdown",
   "metadata": {
    "id": "rLaqva64WoA0"
   },
   "source": [
    "# ***Run***"
   ]
  },
  {
   "cell_type": "code",
   "execution_count": 9,
   "metadata": {
    "id": "dgbe18H4WsgX"
   },
   "outputs": [],
   "source": [
    "def prepareData(datasetName, ratio):\n",
    "  f = open('/content/datasets/%s/graph.txt' % datasetName, 'rb')\n",
    "  edges = [i for i in f]\n",
    "  selected = int(len(edges) * float(ratio))\n",
    "  selected = selected - selected % batch_size\n",
    "  selected = random.sample(edges, selected)\n",
    "  remain = [i for i in edges if i not in selected]\n",
    "  try:\n",
    "    temp_dir = Path('temp')\n",
    "\n",
    "    # Check if the directory exists, if so, delete it\n",
    "    if temp_dir.exists() and temp_dir.is_dir():\n",
    "        shutil.rmtree(temp_dir)\n",
    "        print(\"Existing directory deleted.\")\n",
    "\n",
    "    # Create the directory\n",
    "    temp_dir.mkdir(parents=True, exist_ok=True)\n",
    "    print(\"Directory created successfully.\")\n",
    "\n",
    "  except Exception as e:\n",
    "      print(f\"An error occurred: {e}\")\n",
    "\n",
    "  fw1 = open('temp/graph.txt', 'wb')\n",
    "  fw2 = open('temp/test_graph.txt', 'wb')\n",
    "\n",
    "  for i in selected:\n",
    "      fw1.write(i)\n",
    "  for i in remain:\n",
    "      fw2.write(i)"
   ]
  },
  {
   "cell_type": "code",
   "execution_count": 68,
   "metadata": {
    "colab": {
     "base_uri": "https://localhost:8080/"
    },
    "id": "yK_Z-E1HXRVm",
    "outputId": "accf9b72-e4f0-4cdb-e076-4af3f9aa4197"
   },
   "outputs": [
    {
     "name": "stdout",
     "output_type": "stream",
     "text": [
      "Existing directory deleted.\n",
      "Directory created successfully.\n"
     ]
    }
   ],
   "source": [
    "prepareData(datasetName, ratio)"
   ]
  },
  {
   "cell_type": "code",
   "execution_count": 69,
   "metadata": {
    "colab": {
     "base_uri": "https://localhost:8080/"
    },
    "id": "-wFgChvWggiu",
    "outputId": "df7d8e93-a785-4d21-a05c-20c95a467d8c"
   },
   "outputs": [
    {
     "name": "stdout",
     "output_type": "stream",
     "text": [
      "Vocabulary: 14696\n",
      "Neg. table size: 1000000\n"
     ]
    }
   ],
   "source": [
    "# load data\n",
    "dataset_name = datasetName\n",
    "graph_path = os.path.join('/content/temp/graph.txt')\n",
    "text_path = os.path.join(\"/content\", \"datasets\", dataset_name, dataTextFile)\n",
    "\n",
    "data = dataSet(text_path, graph_path)"
   ]
  },
  {
   "cell_type": "code",
   "execution_count": 72,
   "metadata": {
    "colab": {
     "base_uri": "https://localhost:8080/"
    },
    "id": "1QsRmNqLXrGb",
    "outputId": "3f7a5046-27e5-4732-9658-fce361c7bb75"
   },
   "outputs": [
    {
     "name": "stdout",
     "output_type": "stream",
     "text": [
      "start training.......\n"
     ]
    },
    {
     "name": "stderr",
     "output_type": "stream",
     "text": [
      "Epochs:   2%|▎         | 5/200 [00:03<01:37,  2.01it/s]"
     ]
    },
    {
     "name": "stdout",
     "output_type": "stream",
     "text": [
      "epoch:  1  loss:  1169.6209716796875\n",
      "epoch:  2  loss:  1169.963623046875\n",
      "epoch:  3  loss:  1170.62548828125\n",
      "epoch:  4  loss:  1159.5347900390625\n",
      "epoch:  5  loss:  1157.07666015625\n",
      "epoch:  6  loss:  1168.103271484375\n",
      "epoch:  7  loss:  1166.83056640625\n",
      "epoch:  8  loss:  1158.626953125\n"
     ]
    },
    {
     "name": "stderr",
     "output_type": "stream",
     "text": [
      "Epochs:   6%|▋         | 13/200 [00:03<00:27,  6.76it/s]"
     ]
    },
    {
     "name": "stdout",
     "output_type": "stream",
     "text": [
      "epoch:  9  loss:  1153.518798828125\n",
      "epoch:  10  loss:  1148.9827880859375\n",
      "epoch:  11  loss:  1148.7830810546875\n",
      "epoch:  12  loss:  1129.75244140625\n",
      "epoch:  13  loss:  1127.093505859375\n",
      "epoch:  14  loss:  1090.1806640625\n",
      "epoch:  15  loss:  1087.0775146484375\n"
     ]
    },
    {
     "name": "stderr",
     "output_type": "stream",
     "text": [
      "Epochs:  10%|█         | 21/200 [00:03<00:13, 13.29it/s]"
     ]
    },
    {
     "name": "stdout",
     "output_type": "stream",
     "text": [
      "epoch:  16  loss:  1015.8990478515625\n",
      "epoch:  17  loss:  957.2886962890625\n",
      "epoch:  18  loss:  929.2559814453125\n",
      "epoch:  19  loss:  852.0103149414062\n",
      "epoch:  20  loss:  768.510009765625\n",
      "epoch:  21  loss:  720.5796508789062\n",
      "epoch:  22  loss:  665.7279663085938\n",
      "epoch:  23  loss:  635.3858642578125\n",
      "epoch:  24  loss:  580.2509765625\n"
     ]
    },
    {
     "name": "stderr",
     "output_type": "stream",
     "text": [
      "Epochs:  16%|█▌        | 32/200 [00:03<00:06, 24.94it/s]"
     ]
    },
    {
     "name": "stdout",
     "output_type": "stream",
     "text": [
      "epoch:  25  loss:  545.997314453125\n",
      "epoch:  26  loss:  523.072021484375\n",
      "epoch:  27  loss:  508.63531494140625\n",
      "epoch:  28  loss:  493.94598388671875\n",
      "epoch:  29  loss:  485.21875\n",
      "epoch:  30  loss:  477.4057922363281\n",
      "epoch:  31  loss:  466.4040222167969\n",
      "epoch:  32  loss:  465.57708740234375\n",
      "epoch:  33  loss:  463.22027587890625\n",
      "epoch:  34  loss:  456.7693786621094\n",
      "epoch:  35  loss:  458.1394348144531\n",
      "epoch:  36  loss:  453.41217041015625\n"
     ]
    },
    {
     "name": "stderr",
     "output_type": "stream",
     "text": [
      "Epochs:  22%|██▏       | 44/200 [00:04<00:04, 37.04it/s]"
     ]
    },
    {
     "name": "stdout",
     "output_type": "stream",
     "text": [
      "epoch:  37  loss:  454.68365478515625\n",
      "epoch:  38  loss:  452.77001953125\n",
      "epoch:  39  loss:  449.3072509765625\n",
      "epoch:  40  loss:  450.08819580078125\n",
      "epoch:  41  loss:  452.5135498046875\n",
      "epoch:  42  loss:  450.4064025878906\n",
      "epoch:  43  loss:  452.56988525390625\n",
      "epoch:  44  loss:  448.18731689453125\n",
      "epoch:  45  loss:  447.72314453125\n",
      "epoch:  46  loss:  448.20831298828125\n",
      "epoch:  47  loss:  445.70709228515625\n",
      "epoch:  48  loss:  447.58990478515625\n"
     ]
    },
    {
     "name": "stderr",
     "output_type": "stream",
     "text": [
      "Epochs:  28%|██▊       | 56/200 [00:04<00:03, 45.86it/s]"
     ]
    },
    {
     "name": "stdout",
     "output_type": "stream",
     "text": [
      "epoch:  49  loss:  446.4619140625\n",
      "epoch:  50  loss:  446.343017578125\n",
      "epoch:  51  loss:  446.20001220703125\n",
      "epoch:  52  loss:  445.55645751953125\n",
      "epoch:  53  loss:  445.90081787109375\n",
      "epoch:  54  loss:  444.69683837890625\n",
      "epoch:  55  loss:  444.41851806640625\n",
      "epoch:  56  loss:  442.7498779296875\n",
      "epoch:  57  loss:  442.1947021484375\n",
      "epoch:  58  loss:  440.49334716796875\n",
      "epoch:  59  loss:  443.51263427734375\n",
      "epoch:  60  loss:  441.1300964355469\n"
     ]
    },
    {
     "name": "stderr",
     "output_type": "stream",
     "text": [
      "Epochs:  34%|███▍      | 68/200 [00:04<00:02, 50.96it/s]"
     ]
    },
    {
     "name": "stdout",
     "output_type": "stream",
     "text": [
      "epoch:  61  loss:  442.69989013671875\n",
      "epoch:  62  loss:  441.224853515625\n",
      "epoch:  63  loss:  439.1410217285156\n",
      "epoch:  64  loss:  440.91375732421875\n",
      "epoch:  65  loss:  440.49090576171875\n",
      "epoch:  66  loss:  442.0968933105469\n",
      "epoch:  67  loss:  440.8128356933594\n",
      "epoch:  68  loss:  437.5782470703125\n",
      "epoch:  69  loss:  437.7692565917969\n",
      "epoch:  70  loss:  437.917236328125\n",
      "epoch:  71  loss:  439.93109130859375\n",
      "epoch:  72 "
     ]
    },
    {
     "name": "stderr",
     "output_type": "stream",
     "text": [
      "Epochs:  40%|████      | 80/200 [00:04<00:02, 53.80it/s]"
     ]
    },
    {
     "name": "stdout",
     "output_type": "stream",
     "text": [
      " loss:  433.8986511230469\n",
      "epoch:  73  loss:  436.2981262207031\n",
      "epoch:  74  loss:  432.802734375\n",
      "epoch:  75  loss:  433.486572265625\n",
      "epoch:  76  loss:  436.9244079589844\n",
      "epoch:  77  loss:  434.3404541015625\n",
      "epoch:  78  loss:  432.0978698730469\n",
      "epoch:  79  loss:  432.6258544921875\n",
      "epoch:  80  loss:  431.27691650390625\n",
      "epoch:  81  loss:  432.33203125\n",
      "epoch:  82  loss:  433.2620849609375\n",
      "epoch:  83  loss:  431.9076843261719\n"
     ]
    },
    {
     "name": "stderr",
     "output_type": "stream",
     "text": [
      "Epochs:  46%|████▌     | 92/200 [00:05<00:01, 55.72it/s]"
     ]
    },
    {
     "name": "stdout",
     "output_type": "stream",
     "text": [
      "epoch:  84  loss:  430.6609802246094\n",
      "epoch:  85  loss:  432.6119689941406\n",
      "epoch:  86  loss:  432.54058837890625\n",
      "epoch:  87  loss:  429.9193420410156\n",
      "epoch:  88  loss:  430.59716796875\n",
      "epoch:  89  loss:  432.6406555175781\n",
      "epoch:  90  loss:  429.65509033203125\n",
      "epoch:  91  loss:  428.2223205566406\n",
      "epoch:  92  loss:  425.322509765625\n",
      "epoch:  93  loss:  428.6480712890625\n",
      "epoch:  94  loss:  425.0893859863281\n",
      "epoch:  95  loss:  428.22430419921875\n"
     ]
    },
    {
     "name": "stderr",
     "output_type": "stream",
     "text": [
      "Epochs:  52%|█████▏    | 104/200 [00:05<00:01, 56.41it/s]"
     ]
    },
    {
     "name": "stdout",
     "output_type": "stream",
     "text": [
      "epoch:  96  loss:  423.54400634765625\n",
      "epoch:  97  loss:  428.75970458984375\n",
      "epoch:  98  loss:  426.0213623046875\n",
      "epoch:  99  loss:  424.700927734375\n",
      "epoch:  100  loss:  423.6951904296875\n",
      "epoch:  101  loss:  424.987060546875\n",
      "epoch:  102  loss:  425.4794006347656\n",
      "epoch:  103  loss:  423.714599609375\n",
      "epoch:  104  loss:  423.49151611328125\n",
      "epoch:  105  loss:  422.9898986816406\n",
      "epoch:  106  loss:  423.1294860839844\n",
      "epoch:  107  loss:  422.8922424316406\n"
     ]
    },
    {
     "name": "stderr",
     "output_type": "stream",
     "text": [
      "Epochs:  58%|█████▊    | 116/200 [00:05<00:01, 56.47it/s]"
     ]
    },
    {
     "name": "stdout",
     "output_type": "stream",
     "text": [
      "epoch:  108  loss:  424.3688659667969\n",
      "epoch:  109  loss:  418.89508056640625\n",
      "epoch:  110  loss:  418.05810546875\n",
      "epoch:  111  loss:  417.0315246582031\n",
      "epoch:  112  loss:  418.3421630859375\n",
      "epoch:  113  loss:  415.5439453125\n",
      "epoch:  114  loss:  420.70025634765625\n",
      "epoch:  115  loss:  416.85223388671875\n",
      "epoch:  116  loss:  415.3298034667969\n",
      "epoch:  117  loss:  414.750244140625\n",
      "epoch:  118  loss:  415.8599853515625\n",
      "epoch:  119  loss:  418.99114990234375\n"
     ]
    },
    {
     "name": "stderr",
     "output_type": "stream",
     "text": [
      "Epochs:  64%|██████▍   | 128/200 [00:05<00:01, 55.92it/s]"
     ]
    },
    {
     "name": "stdout",
     "output_type": "stream",
     "text": [
      "epoch:  120  loss:  415.11090087890625\n",
      "epoch:  121  loss:  416.4937744140625\n",
      "epoch:  122  loss:  408.50726318359375\n",
      "epoch:  123  loss:  416.77044677734375\n",
      "epoch:  124  loss:  416.33935546875\n",
      "epoch:  125  loss:  409.8394775390625\n",
      "epoch:  126  loss:  407.8341064453125\n",
      "epoch:  127  loss:  413.97296142578125\n",
      "epoch:  128  loss:  413.28228759765625\n",
      "epoch:  129  loss:  412.2596130371094\n",
      "epoch:  130  loss:  409.40350341796875\n",
      "epoch:  131  loss:  411.113037109375\n"
     ]
    },
    {
     "name": "stderr",
     "output_type": "stream",
     "text": [
      "Epochs:  70%|███████   | 141/200 [00:05<00:01, 57.35it/s]"
     ]
    },
    {
     "name": "stdout",
     "output_type": "stream",
     "text": [
      "epoch:  132  loss:  409.3389892578125\n",
      "epoch:  133  loss:  409.797119140625\n",
      "epoch:  134  loss:  412.151123046875\n",
      "epoch:  135  loss:  407.48004150390625\n",
      "epoch:  136  loss:  407.74188232421875\n",
      "epoch:  137  loss:  404.7742919921875\n",
      "epoch:  138  loss:  402.31011962890625\n",
      "epoch:  139  loss:  409.4803161621094\n",
      "epoch:  140  loss:  405.86505126953125\n",
      "epoch:  141  loss:  403.855224609375\n",
      "epoch:  142  loss:  402.86090087890625\n",
      "epoch:  143  loss:  405.601318359375\n",
      "epoch:  144"
     ]
    },
    {
     "name": "stderr",
     "output_type": "stream",
     "text": [
      "Epochs:  76%|███████▋  | 153/200 [00:06<00:00, 57.31it/s]"
     ]
    },
    {
     "name": "stdout",
     "output_type": "stream",
     "text": [
      "  loss:  402.9423522949219\n",
      "epoch:  145  loss:  403.2458801269531\n",
      "epoch:  146  loss:  402.548095703125\n",
      "epoch:  147  loss:  404.3426818847656\n",
      "epoch:  148  loss:  405.399169921875\n",
      "epoch:  149  loss:  398.0605163574219\n",
      "epoch:  150  loss:  402.21881103515625\n",
      "epoch:  151  loss:  402.0821533203125\n",
      "epoch:  152  loss:  396.88299560546875\n",
      "epoch:  153  loss:  397.8475341796875\n",
      "epoch:  154  loss:  398.72509765625\n",
      "epoch:  155  loss:  396.38922119140625\n",
      "epoch:  156  loss:  395.6197509765625\n"
     ]
    },
    {
     "name": "stderr",
     "output_type": "stream",
     "text": [
      "Epochs:  82%|████████▎ | 165/200 [00:06<00:00, 57.89it/s]"
     ]
    },
    {
     "name": "stdout",
     "output_type": "stream",
     "text": [
      "epoch:  157  loss:  395.77362060546875\n",
      "epoch:  158  loss:  393.75701904296875\n",
      "epoch:  159  loss:  392.53619384765625\n",
      "epoch:  160  loss:  394.5004577636719\n",
      "epoch:  161  loss:  394.4031982421875\n",
      "epoch:  162  loss:  393.7326354980469\n",
      "epoch:  163  loss:  392.3907470703125\n",
      "epoch:  164  loss:  389.8310546875\n",
      "epoch:  165  loss:  385.72747802734375\n",
      "epoch:  166  loss:  382.6465759277344\n",
      "epoch:  167  loss:  386.7355041503906\n",
      "epoch:  168  loss:  389.4393310546875\n"
     ]
    },
    {
     "name": "stderr",
     "output_type": "stream",
     "text": [
      "Epochs:  88%|████████▊ | 177/200 [00:06<00:00, 57.86it/s]"
     ]
    },
    {
     "name": "stdout",
     "output_type": "stream",
     "text": [
      "epoch:  169  loss:  386.60498046875\n",
      "epoch:  170  loss:  387.56842041015625\n",
      "epoch:  171  loss:  390.28839111328125\n",
      "epoch:  172  loss:  391.700927734375\n",
      "epoch:  173  loss:  388.78216552734375\n",
      "epoch:  174  loss:  387.66680908203125\n",
      "epoch:  175  loss:  387.30523681640625\n",
      "epoch:  176  loss:  384.2142333984375\n",
      "epoch:  177  loss:  378.93963623046875\n",
      "epoch:  178  loss:  379.3531494140625\n",
      "epoch:  179  loss:  381.21649169921875\n",
      "epoch:  180  loss:  377.4583740234375\n"
     ]
    },
    {
     "name": "stderr",
     "output_type": "stream",
     "text": [
      "Epochs:  94%|█████████▍| 189/200 [00:06<00:00, 56.48it/s]"
     ]
    },
    {
     "name": "stdout",
     "output_type": "stream",
     "text": [
      "epoch:  181  loss:  385.106201171875\n",
      "epoch:  182  loss:  378.49505615234375\n",
      "epoch:  183  loss:  382.8277282714844\n",
      "epoch:  184  loss:  383.4664306640625\n",
      "epoch:  185  loss:  387.161865234375\n",
      "epoch:  186  loss:  377.10650634765625\n",
      "epoch:  187  loss:  376.3406066894531\n",
      "epoch:  188  loss:  381.91455078125\n",
      "epoch:  189  loss:  379.9837951660156\n",
      "epoch:  190  loss:  384.17193603515625\n",
      "epoch:  191  loss:  372.5572509765625\n"
     ]
    },
    {
     "name": "stderr",
     "output_type": "stream",
     "text": [
      "Epochs: 100%|██████████| 200/200 [00:06<00:00, 28.84it/s]\n"
     ]
    },
    {
     "name": "stdout",
     "output_type": "stream",
     "text": [
      "epoch:  192  loss:  376.53167724609375\n",
      "epoch:  193  loss:  372.5558166503906\n",
      "epoch:  194  loss:  379.68817138671875\n",
      "epoch:  195  loss:  383.0722351074219\n",
      "epoch:  196  loss:  376.029296875\n",
      "epoch:  197  loss:  372.38604736328125\n",
      "epoch:  198  loss:  377.3175048828125\n",
      "epoch:  199  loss:  379.6077575683594\n",
      "epoch:  200  loss:  379.413818359375\n",
      "Time: 6.762818999999999\n"
     ]
    }
   ],
   "source": [
    "with tf.Graph().as_default():\n",
    "    sess = tf.compat.v1.Session()\n",
    "    with sess.as_default():\n",
    "        model = Model(data.num_vocab, data.num_nodes)\n",
    "        opt = tf.compat.v1.train.AdamOptimizer(lr)#tf.keras.optimizers.Adam(learning_rate=lr)\n",
    "        train_op = opt.minimize(model.loss)#opt.minimize(model.loss, var_list=model.trainable_variables)\n",
    "        sess.run(tf.compat.v1.global_variables_initializer())\n",
    "        time = 0\n",
    "\n",
    "        # training\n",
    "        print('start training.......')\n",
    "\n",
    "\n",
    "        for epoch in tqdm(range(num_epoch), desc=\"Epochs\"):\n",
    "            start = datetime.now()\n",
    "            loss_epoch = 0\n",
    "            batches = data.generate_batches()\n",
    "            h1 = 0\n",
    "            num_batch = len(batches)\n",
    "            for i in range(num_batch):\n",
    "                batch = batches[i]\n",
    "\n",
    "                node1, node2, node3 = zip(*batch)\n",
    "                node1, node2, node3 = np.array(node1), np.array(node2), np.array(node3)\n",
    "                text1, text2, text3 = data.text[node1], data.text[node2], data.text[node3]\n",
    "                #labels1, labels2 = data.labels[node1], data.labels[node2]\n",
    "                #labels = [max(a, b) for a, b in zip(labels1, labels2)]\n",
    "                P1, P2, P3 = sub_Mat(data.P, node1), sub_Mat(data.P, node2), sub_Mat(data.P, node3)\n",
    "\n",
    "\n",
    "                feed_dict = {\n",
    "                    model.Text_a: text1,\n",
    "                    model.Text_b: text2,\n",
    "                    model.Text_neg: text3,\n",
    "                    model.Node_a: node1,\n",
    "                    model.Node_b: node2,\n",
    "                    model.Node_neg: node3,\n",
    "                    model.P_a: P1,\n",
    "                    model.P_b: P2,\n",
    "                    model.P_neg: P3\n",
    "                    #model.labels: labels\n",
    "                }\n",
    "\n",
    "                # run the graph\n",
    "                _, loss_batch = sess.run([train_op, model.loss], feed_dict=feed_dict)\n",
    "\n",
    "                loss_epoch += loss_batch\n",
    "\n",
    "            end = datetime.now()\n",
    "            time += (end - start).total_seconds()\n",
    "            print('epoch: ', epoch + 1, ' loss: ', loss_epoch)\n",
    "\n",
    "        print(f'Time: {time}')\n",
    "        # Saving embeddings\n",
    "        with open('temp/embed.txt', 'wb') as file:\n",
    "            batches = data.generate_batches(mode='add')\n",
    "            num_batch = len(batches)\n",
    "            embed = [[] for _ in range(data.num_nodes)]\n",
    "\n",
    "            for i in range(num_batch):\n",
    "                batch = batches[i]\n",
    "                node1, node2, node3 = zip(*batch)\n",
    "                node1, node2, node3 = np.array(node1), np.array(node2), np.array(node3)\n",
    "                text1, text2, text3 = data.text[node1], data.text[node2], data.text[node3]\n",
    "                #labels1, labels2 = data.labels[node1], data.labels[node2]\n",
    "                #labels = [max(a, b) for a, b in zip(labels1, labels2)]\n",
    "                P1, P2, P3 = sub_Mat(data.P, node1), sub_Mat(data.P, node2), sub_Mat(data.P, node3)\n",
    "\n",
    "                feed_dict = {\n",
    "                    model.Text_a: text1,\n",
    "                    model.Text_b: text2,\n",
    "                    model.Text_neg: text3,\n",
    "                    model.Node_a: node1,\n",
    "                    model.Node_b: node2,\n",
    "                    model.Node_neg: node3,\n",
    "                    model.P_a: P1,\n",
    "                    model.P_b: P2,\n",
    "                    model.P_neg: P3\n",
    "                    #model.labels: labels\n",
    "                }\n",
    "\n",
    "                # Fetch embeddings\n",
    "                #convA, convB, TA, TB = sess.run([model.convA, model.convB, model.N_A, model.N_B])\n",
    "                convA, convB, TA, TB = sess.run([model.convA, model.convB, model.N_A, model.N_B], feed_dict=feed_dict)\n",
    "\n",
    "                # For each node in the batch\n",
    "                for j in range(batch_size):\n",
    "                    em = list(convA[j]) + list(TA[j]) # Create an embedding by concatenating the text (convA) and node (TA) embeddings\n",
    "                    embed[node1[j]].append(em) # A node can appear many times in edges. Thus, each time that node will have a different embedding. Append the different embeddings for a particular node\n",
    "\n",
    "                    em = list(convB[j]) + list(TB[j]) # Create an embedding by concatenating the text (convA) and node (TA) embeddings\n",
    "                    embed[node2[j]].append(em)\n",
    "\n",
    "\n",
    "            for i in range(data.num_nodes):\n",
    "                if embed[i]:\n",
    "                    tmp = np.mean(embed[i], axis=0) #/ len(embed[i]) # If a node has many different embeddings, take their mean.\n",
    "                    file.write((' '.join(map(str, tmp)) + '\\n').encode())\n",
    "                else:\n",
    "                    file.write('\\n'.encode())\n"
   ]
  },
  {
   "cell_type": "code",
   "execution_count": 73,
   "metadata": {
    "colab": {
     "base_uri": "https://localhost:8080/"
    },
    "id": "NZsQv5KyY83v",
    "outputId": "da621540-2245-4208-aa96-73c00d97a0f1"
   },
   "outputs": [
    {
     "name": "stdout",
     "output_type": "stream",
     "text": [
      "Auc value: 0.71\n"
     ]
    }
   ],
   "source": [
    "node2vec = {}\n",
    "f = open('temp/embed.txt', 'rb')\n",
    "for i, j in enumerate(f):\n",
    "    if j.decode() != '\\n':\n",
    "        node2vec[i] = list(map(float, j.strip().decode().split(' ')))\n",
    "f1 = open(os.path.join('temp/test_graph.txt'), 'rb')\n",
    "edges = [list(map(int, i.strip().decode().split('\\t'))) for i in f1]\n",
    "nodes = list(set([i for j in edges for i in j]))\n",
    "a = 0\n",
    "b = 0\n",
    "result = []\n",
    "for i, j in edges:\n",
    "    if i in node2vec.keys() and j in node2vec.keys():\n",
    "        dot1 = np.dot(node2vec[i], node2vec[j])\n",
    "        random_node = random.sample(nodes, 1)[0]\n",
    "        while random_node == j or random_node not in node2vec.keys():\n",
    "            random_node = random.sample(nodes, 1)[0]\n",
    "        dot2 = np.dot(node2vec[i], node2vec[random_node])\n",
    "        result.append(np.asarray([dot1,dot2]))\n",
    "        if dot1 > dot2:\n",
    "            a += 1\n",
    "        elif dot1 == dot2:\n",
    "            a += 0.5\n",
    "        b += 1\n",
    "\n",
    "print(\"Auc value:\", float(a) / b)"
   ]
  }
 ],
 "metadata": {
  "accelerator": "GPU",
  "colab": {
   "gpuType": "T4",
   "include_colab_link": true,
   "provenance": []
  },
  "kernelspec": {
   "display_name": "Python 3",
   "name": "python3"
  },
  "language_info": {
   "name": "python"
  }
 },
 "nbformat": 4,
 "nbformat_minor": 0
}
